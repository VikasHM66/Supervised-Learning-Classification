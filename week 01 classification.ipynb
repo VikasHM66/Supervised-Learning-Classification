{
 "cells": [
  {
   "cell_type": "code",
   "execution_count": 78,
   "metadata": {},
   "outputs": [],
   "source": [
    "import pandas as pd\n",
    "import numpy as np\n",
    "import matplotlib.pyplot as plt\n",
    "import seaborn as sns\n",
    "import warnings\n",
    "warnings.filterwarnings(action='ignore')\n",
    "\n",
    "pd.options.display.max_columns = None\n",
    "pd.options.display.max_rows = None\n",
    "\n",
    "from sklearn.model_selection import train_test_split\n",
    "from sklearn.preprocessing import StandardScaler\n",
    "\n",
    "import statsmodels\n",
    "import statsmodels.api as sm\n",
    "\n",
    "from sklearn import metrics\n",
    "from sklearn.linear_model import LogisticRegression\n",
    "from sklearn.metrics import classification_report\n",
    "from sklearn.metrics import cohen_kappa_score\n",
    "from sklearn.metrics import confusion_matrix\n",
    "from sklearn.metrics import roc_curve\n",
    "from sklearn.metrics import accuracy_score\n",
    "\n",
    "from sklearn.feature_selection import RFE"
   ]
  },
  {
   "cell_type": "markdown",
   "metadata": {},
   "source": [
    "# Day 1"
   ]
  },
  {
   "cell_type": "code",
   "execution_count": 79,
   "metadata": {},
   "outputs": [
    {
     "data": {
      "text/html": [
       "<div>\n",
       "<style scoped>\n",
       "    .dataframe tbody tr th:only-of-type {\n",
       "        vertical-align: middle;\n",
       "    }\n",
       "\n",
       "    .dataframe tbody tr th {\n",
       "        vertical-align: top;\n",
       "    }\n",
       "\n",
       "    .dataframe thead th {\n",
       "        text-align: right;\n",
       "    }\n",
       "</style>\n",
       "<table border=\"1\" class=\"dataframe\">\n",
       "  <thead>\n",
       "    <tr style=\"text-align: right;\">\n",
       "      <th></th>\n",
       "      <th>Serial No.</th>\n",
       "      <th>GRE Score</th>\n",
       "      <th>TOEFL Score</th>\n",
       "      <th>University Rating</th>\n",
       "      <th>SOP</th>\n",
       "      <th>LOR</th>\n",
       "      <th>CGPA</th>\n",
       "      <th>Research</th>\n",
       "      <th>Chance of Admit</th>\n",
       "    </tr>\n",
       "  </thead>\n",
       "  <tbody>\n",
       "    <tr>\n",
       "      <th>0</th>\n",
       "      <td>1</td>\n",
       "      <td>337</td>\n",
       "      <td>118</td>\n",
       "      <td>4</td>\n",
       "      <td>4.5</td>\n",
       "      <td>4.5</td>\n",
       "      <td>9.65</td>\n",
       "      <td>1</td>\n",
       "      <td>1</td>\n",
       "    </tr>\n",
       "    <tr>\n",
       "      <th>1</th>\n",
       "      <td>2</td>\n",
       "      <td>324</td>\n",
       "      <td>107</td>\n",
       "      <td>4</td>\n",
       "      <td>4.0</td>\n",
       "      <td>4.5</td>\n",
       "      <td>8.87</td>\n",
       "      <td>1</td>\n",
       "      <td>1</td>\n",
       "    </tr>\n",
       "    <tr>\n",
       "      <th>2</th>\n",
       "      <td>3</td>\n",
       "      <td>316</td>\n",
       "      <td>104</td>\n",
       "      <td>3</td>\n",
       "      <td>3.0</td>\n",
       "      <td>3.5</td>\n",
       "      <td>8.00</td>\n",
       "      <td>1</td>\n",
       "      <td>0</td>\n",
       "    </tr>\n",
       "    <tr>\n",
       "      <th>3</th>\n",
       "      <td>4</td>\n",
       "      <td>322</td>\n",
       "      <td>110</td>\n",
       "      <td>3</td>\n",
       "      <td>3.5</td>\n",
       "      <td>2.5</td>\n",
       "      <td>8.67</td>\n",
       "      <td>1</td>\n",
       "      <td>1</td>\n",
       "    </tr>\n",
       "    <tr>\n",
       "      <th>4</th>\n",
       "      <td>5</td>\n",
       "      <td>314</td>\n",
       "      <td>103</td>\n",
       "      <td>2</td>\n",
       "      <td>2.0</td>\n",
       "      <td>3.0</td>\n",
       "      <td>8.21</td>\n",
       "      <td>0</td>\n",
       "      <td>0</td>\n",
       "    </tr>\n",
       "  </tbody>\n",
       "</table>\n",
       "</div>"
      ],
      "text/plain": [
       "   Serial No.  GRE Score  TOEFL Score  University Rating  SOP  LOR  CGPA  \\\n",
       "0           1        337          118                  4  4.5  4.5  9.65   \n",
       "1           2        324          107                  4  4.0  4.5  8.87   \n",
       "2           3        316          104                  3  3.0  3.5  8.00   \n",
       "3           4        322          110                  3  3.5  2.5  8.67   \n",
       "4           5        314          103                  2  2.0  3.0  8.21   \n",
       "\n",
       "   Research  Chance of Admit  \n",
       "0         1                1  \n",
       "1         1                1  \n",
       "2         1                0  \n",
       "3         1                1  \n",
       "4         0                0  "
      ]
     },
     "execution_count": 79,
     "metadata": {},
     "output_type": "execute_result"
    }
   ],
   "source": [
    "df = pd.read_csv('Admission_Predict.csv')\n",
    "df.head()"
   ]
  },
  {
   "cell_type": "code",
   "execution_count": 80,
   "metadata": {},
   "outputs": [
    {
     "name": "stdout",
     "output_type": "stream",
     "text": [
      "<class 'pandas.core.frame.DataFrame'>\n",
      "RangeIndex: 400 entries, 0 to 399\n",
      "Data columns (total 9 columns):\n",
      " #   Column             Non-Null Count  Dtype  \n",
      "---  ------             --------------  -----  \n",
      " 0   Serial No.         400 non-null    int64  \n",
      " 1   GRE Score          400 non-null    int64  \n",
      " 2   TOEFL Score        400 non-null    int64  \n",
      " 3   University Rating  400 non-null    int64  \n",
      " 4   SOP                400 non-null    float64\n",
      " 5   LOR                400 non-null    float64\n",
      " 6   CGPA               400 non-null    float64\n",
      " 7   Research           400 non-null    int64  \n",
      " 8   Chance of Admit    400 non-null    int64  \n",
      "dtypes: float64(3), int64(6)\n",
      "memory usage: 28.2 KB\n"
     ]
    }
   ],
   "source": [
    "df.info()"
   ]
  },
  {
   "cell_type": "code",
   "execution_count": 81,
   "metadata": {},
   "outputs": [
    {
     "data": {
      "text/plain": [
       "(400, 9)"
      ]
     },
     "execution_count": 81,
     "metadata": {},
     "output_type": "execute_result"
    }
   ],
   "source": [
    "df.shape"
   ]
  },
  {
   "cell_type": "code",
   "execution_count": 82,
   "metadata": {},
   "outputs": [],
   "source": [
    "df['Research'] = df['Research'].astype(object)"
   ]
  },
  {
   "cell_type": "code",
   "execution_count": 83,
   "metadata": {},
   "outputs": [
    {
     "name": "stdout",
     "output_type": "stream",
     "text": [
      "<class 'pandas.core.frame.DataFrame'>\n",
      "RangeIndex: 400 entries, 0 to 399\n",
      "Data columns (total 9 columns):\n",
      " #   Column             Non-Null Count  Dtype  \n",
      "---  ------             --------------  -----  \n",
      " 0   Serial No.         400 non-null    int64  \n",
      " 1   GRE Score          400 non-null    int64  \n",
      " 2   TOEFL Score        400 non-null    int64  \n",
      " 3   University Rating  400 non-null    int64  \n",
      " 4   SOP                400 non-null    float64\n",
      " 5   LOR                400 non-null    float64\n",
      " 6   CGPA               400 non-null    float64\n",
      " 7   Research           400 non-null    object \n",
      " 8   Chance of Admit    400 non-null    int64  \n",
      "dtypes: float64(3), int64(5), object(1)\n",
      "memory usage: 28.2+ KB\n"
     ]
    }
   ],
   "source": [
    "df.info()"
   ]
  },
  {
   "cell_type": "code",
   "execution_count": 84,
   "metadata": {},
   "outputs": [
    {
     "data": {
      "text/html": [
       "<div>\n",
       "<style scoped>\n",
       "    .dataframe tbody tr th:only-of-type {\n",
       "        vertical-align: middle;\n",
       "    }\n",
       "\n",
       "    .dataframe tbody tr th {\n",
       "        vertical-align: top;\n",
       "    }\n",
       "\n",
       "    .dataframe thead th {\n",
       "        text-align: right;\n",
       "    }\n",
       "</style>\n",
       "<table border=\"1\" class=\"dataframe\">\n",
       "  <thead>\n",
       "    <tr style=\"text-align: right;\">\n",
       "      <th></th>\n",
       "      <th>Serial No.</th>\n",
       "      <th>GRE Score</th>\n",
       "      <th>TOEFL Score</th>\n",
       "      <th>University Rating</th>\n",
       "      <th>SOP</th>\n",
       "      <th>LOR</th>\n",
       "      <th>CGPA</th>\n",
       "      <th>Research</th>\n",
       "      <th>Chance of Admit</th>\n",
       "    </tr>\n",
       "  </thead>\n",
       "  <tbody>\n",
       "    <tr>\n",
       "      <th>0</th>\n",
       "      <td>1</td>\n",
       "      <td>337</td>\n",
       "      <td>118</td>\n",
       "      <td>4</td>\n",
       "      <td>4.5</td>\n",
       "      <td>4.5</td>\n",
       "      <td>9.65</td>\n",
       "      <td>1</td>\n",
       "      <td>1</td>\n",
       "    </tr>\n",
       "    <tr>\n",
       "      <th>1</th>\n",
       "      <td>2</td>\n",
       "      <td>324</td>\n",
       "      <td>107</td>\n",
       "      <td>4</td>\n",
       "      <td>4.0</td>\n",
       "      <td>4.5</td>\n",
       "      <td>8.87</td>\n",
       "      <td>1</td>\n",
       "      <td>1</td>\n",
       "    </tr>\n",
       "    <tr>\n",
       "      <th>2</th>\n",
       "      <td>3</td>\n",
       "      <td>316</td>\n",
       "      <td>104</td>\n",
       "      <td>3</td>\n",
       "      <td>3.0</td>\n",
       "      <td>3.5</td>\n",
       "      <td>8.00</td>\n",
       "      <td>1</td>\n",
       "      <td>0</td>\n",
       "    </tr>\n",
       "    <tr>\n",
       "      <th>3</th>\n",
       "      <td>4</td>\n",
       "      <td>322</td>\n",
       "      <td>110</td>\n",
       "      <td>3</td>\n",
       "      <td>3.5</td>\n",
       "      <td>2.5</td>\n",
       "      <td>8.67</td>\n",
       "      <td>1</td>\n",
       "      <td>1</td>\n",
       "    </tr>\n",
       "    <tr>\n",
       "      <th>4</th>\n",
       "      <td>5</td>\n",
       "      <td>314</td>\n",
       "      <td>103</td>\n",
       "      <td>2</td>\n",
       "      <td>2.0</td>\n",
       "      <td>3.0</td>\n",
       "      <td>8.21</td>\n",
       "      <td>0</td>\n",
       "      <td>0</td>\n",
       "    </tr>\n",
       "  </tbody>\n",
       "</table>\n",
       "</div>"
      ],
      "text/plain": [
       "   Serial No.  GRE Score  TOEFL Score  University Rating  SOP  LOR  CGPA  \\\n",
       "0           1        337          118                  4  4.5  4.5  9.65   \n",
       "1           2        324          107                  4  4.0  4.5  8.87   \n",
       "2           3        316          104                  3  3.0  3.5  8.00   \n",
       "3           4        322          110                  3  3.5  2.5  8.67   \n",
       "4           5        314          103                  2  2.0  3.0  8.21   \n",
       "\n",
       "  Research  Chance of Admit  \n",
       "0        1                1  \n",
       "1        1                1  \n",
       "2        1                0  \n",
       "3        1                1  \n",
       "4        0                0  "
      ]
     },
     "execution_count": 84,
     "metadata": {},
     "output_type": "execute_result"
    }
   ],
   "source": [
    "df.head()"
   ]
  },
  {
   "cell_type": "markdown",
   "metadata": {},
   "source": [
    "### The column serial no of the student, which is reduntant for further analysis thus, we drop the column"
   ]
  },
  {
   "cell_type": "code",
   "execution_count": 85,
   "metadata": {},
   "outputs": [
    {
     "data": {
      "text/plain": [
       "Index(['Serial No.', 'GRE Score', 'TOEFL Score', 'University Rating', 'SOP',\n",
       "       'LOR', 'CGPA', 'Research', 'Chance of Admit'],\n",
       "      dtype='object')"
      ]
     },
     "execution_count": 85,
     "metadata": {},
     "output_type": "execute_result"
    }
   ],
   "source": [
    "df.columns"
   ]
  },
  {
   "cell_type": "code",
   "execution_count": 86,
   "metadata": {},
   "outputs": [],
   "source": [
    "df = df.drop('Serial No.',axis=1)"
   ]
  },
  {
   "cell_type": "code",
   "execution_count": 87,
   "metadata": {},
   "outputs": [
    {
     "data": {
      "text/html": [
       "<div>\n",
       "<style scoped>\n",
       "    .dataframe tbody tr th:only-of-type {\n",
       "        vertical-align: middle;\n",
       "    }\n",
       "\n",
       "    .dataframe tbody tr th {\n",
       "        vertical-align: top;\n",
       "    }\n",
       "\n",
       "    .dataframe thead th {\n",
       "        text-align: right;\n",
       "    }\n",
       "</style>\n",
       "<table border=\"1\" class=\"dataframe\">\n",
       "  <thead>\n",
       "    <tr style=\"text-align: right;\">\n",
       "      <th></th>\n",
       "      <th>GRE Score</th>\n",
       "      <th>TOEFL Score</th>\n",
       "      <th>University Rating</th>\n",
       "      <th>SOP</th>\n",
       "      <th>LOR</th>\n",
       "      <th>CGPA</th>\n",
       "      <th>Research</th>\n",
       "      <th>Chance of Admit</th>\n",
       "    </tr>\n",
       "  </thead>\n",
       "  <tbody>\n",
       "    <tr>\n",
       "      <th>0</th>\n",
       "      <td>337</td>\n",
       "      <td>118</td>\n",
       "      <td>4</td>\n",
       "      <td>4.5</td>\n",
       "      <td>4.5</td>\n",
       "      <td>9.65</td>\n",
       "      <td>1</td>\n",
       "      <td>1</td>\n",
       "    </tr>\n",
       "    <tr>\n",
       "      <th>1</th>\n",
       "      <td>324</td>\n",
       "      <td>107</td>\n",
       "      <td>4</td>\n",
       "      <td>4.0</td>\n",
       "      <td>4.5</td>\n",
       "      <td>8.87</td>\n",
       "      <td>1</td>\n",
       "      <td>1</td>\n",
       "    </tr>\n",
       "    <tr>\n",
       "      <th>2</th>\n",
       "      <td>316</td>\n",
       "      <td>104</td>\n",
       "      <td>3</td>\n",
       "      <td>3.0</td>\n",
       "      <td>3.5</td>\n",
       "      <td>8.00</td>\n",
       "      <td>1</td>\n",
       "      <td>0</td>\n",
       "    </tr>\n",
       "    <tr>\n",
       "      <th>3</th>\n",
       "      <td>322</td>\n",
       "      <td>110</td>\n",
       "      <td>3</td>\n",
       "      <td>3.5</td>\n",
       "      <td>2.5</td>\n",
       "      <td>8.67</td>\n",
       "      <td>1</td>\n",
       "      <td>1</td>\n",
       "    </tr>\n",
       "    <tr>\n",
       "      <th>4</th>\n",
       "      <td>314</td>\n",
       "      <td>103</td>\n",
       "      <td>2</td>\n",
       "      <td>2.0</td>\n",
       "      <td>3.0</td>\n",
       "      <td>8.21</td>\n",
       "      <td>0</td>\n",
       "      <td>0</td>\n",
       "    </tr>\n",
       "  </tbody>\n",
       "</table>\n",
       "</div>"
      ],
      "text/plain": [
       "   GRE Score  TOEFL Score  University Rating  SOP  LOR  CGPA Research  \\\n",
       "0        337          118                  4  4.5  4.5  9.65        1   \n",
       "1        324          107                  4  4.0  4.5  8.87        1   \n",
       "2        316          104                  3  3.0  3.5  8.00        1   \n",
       "3        322          110                  3  3.5  2.5  8.67        1   \n",
       "4        314          103                  2  2.0  3.0  8.21        0   \n",
       "\n",
       "   Chance of Admit  \n",
       "0                1  \n",
       "1                1  \n",
       "2                0  \n",
       "3                1  \n",
       "4                0  "
      ]
     },
     "execution_count": 87,
     "metadata": {},
     "output_type": "execute_result"
    }
   ],
   "source": [
    "df.head()"
   ]
  },
  {
   "cell_type": "code",
   "execution_count": 88,
   "metadata": {},
   "outputs": [
    {
     "data": {
      "text/plain": [
       "GRE Score           -0.062893\n",
       "TOEFL Score          0.057216\n",
       "University Rating    0.171260\n",
       "SOP                 -0.275761\n",
       "LOR                 -0.106991\n",
       "CGPA                -0.065991\n",
       "Research            -0.191582\n",
       "Chance of Admit      0.201765\n",
       "dtype: float64"
      ]
     },
     "execution_count": 88,
     "metadata": {},
     "output_type": "execute_result"
    }
   ],
   "source": [
    "df.skew()"
   ]
  },
  {
   "cell_type": "code",
   "execution_count": 89,
   "metadata": {},
   "outputs": [
    {
     "data": {
      "image/png": "[encoded data removed]",
      "text/plain": [
       "<Figure size 432x288 with 6 Axes>"
      ]
     },
     "metadata": {
      "needs_background": "light"
     },
     "output_type": "display_data"
    }
   ],
   "source": [
    "df.drop('Chance of Admit',axis=1).hist()\n",
    "plt.tight_layout()"
   ]
  },
  {
   "cell_type": "code",
   "execution_count": 90,
   "metadata": {},
   "outputs": [
    {
     "data": {
      "text/plain": [
       "<AxesSubplot:xlabel='Research', ylabel='count'>"
      ]
     },
     "execution_count": 90,
     "metadata": {},
     "output_type": "execute_result"
    },
    {
     "data": {
      "image/png": "[encoded data removed]",
      "text/plain": [
       "<Figure size 432x288 with 1 Axes>"
      ]
     },
     "metadata": {
      "needs_background": "light"
     },
     "output_type": "display_data"
    }
   ],
   "source": [
    "## checking the distribution of the categorical independent variable.\n",
    "sns.countplot(df['Research'])"
   ]
  },
  {
   "cell_type": "code",
   "execution_count": 91,
   "metadata": {},
   "outputs": [
    {
     "data": {
      "text/plain": [
       "<AxesSubplot:xlabel='Chance of Admit', ylabel='count'>"
      ]
     },
     "execution_count": 91,
     "metadata": {},
     "output_type": "execute_result"
    },
    {
     "data": {
      "image/png": "[encoded data removed]",
      "text/plain": [
       "<Figure size 432x288 with 1 Axes>"
      ]
     },
     "metadata": {
      "needs_background": "light"
     },
     "output_type": "display_data"
    }
   ],
   "source": [
    "## distribution of dependent variable.\n",
    "sns.countplot(df['Chance of Admit'])"
   ]
  },
  {
   "cell_type": "code",
   "execution_count": 92,
   "metadata": {},
   "outputs": [
    {
     "data": {
      "text/plain": [
       "0    55.0\n",
       "1    45.0\n",
       "Name: Chance of Admit, dtype: float64"
      ]
     },
     "execution_count": 92,
     "metadata": {},
     "output_type": "execute_result"
    }
   ],
   "source": [
    "df['Chance of Admit'].value_counts(normalize=True)*100"
   ]
  },
  {
   "cell_type": "code",
   "execution_count": 93,
   "metadata": {},
   "outputs": [],
   "source": [
    "## The plot shows there is no imbalance in the target variable."
   ]
  },
  {
   "cell_type": "code",
   "execution_count": 94,
   "metadata": {},
   "outputs": [
    {
     "data": {
      "text/plain": [
       "GRE Score            0\n",
       "TOEFL Score          0\n",
       "University Rating    0\n",
       "SOP                  0\n",
       "LOR                  0\n",
       "CGPA                 0\n",
       "Research             0\n",
       "Chance of Admit      0\n",
       "dtype: int64"
      ]
     },
     "execution_count": 94,
     "metadata": {},
     "output_type": "execute_result"
    }
   ],
   "source": [
    "## lets check for the missing values.\n",
    "df.isnull().sum()"
   ]
  },
  {
   "cell_type": "code",
   "execution_count": 95,
   "metadata": {},
   "outputs": [],
   "source": [
    "## there are no null values in the dataset."
   ]
  },
  {
   "cell_type": "code",
   "execution_count": 96,
   "metadata": {},
   "outputs": [],
   "source": [
    "## Lets dummy encode the categorical variable.\n",
    "df = pd.get_dummies(data=df, drop_first=True)"
   ]
  },
  {
   "cell_type": "code",
   "execution_count": 97,
   "metadata": {},
   "outputs": [
    {
     "data": {
      "text/html": [
       "<div>\n",
       "<style scoped>\n",
       "    .dataframe tbody tr th:only-of-type {\n",
       "        vertical-align: middle;\n",
       "    }\n",
       "\n",
       "    .dataframe tbody tr th {\n",
       "        vertical-align: top;\n",
       "    }\n",
       "\n",
       "    .dataframe thead th {\n",
       "        text-align: right;\n",
       "    }\n",
       "</style>\n",
       "<table border=\"1\" class=\"dataframe\">\n",
       "  <thead>\n",
       "    <tr style=\"text-align: right;\">\n",
       "      <th></th>\n",
       "      <th>GRE Score</th>\n",
       "      <th>TOEFL Score</th>\n",
       "      <th>University Rating</th>\n",
       "      <th>SOP</th>\n",
       "      <th>LOR</th>\n",
       "      <th>CGPA</th>\n",
       "      <th>Chance of Admit</th>\n",
       "      <th>Research_1</th>\n",
       "    </tr>\n",
       "  </thead>\n",
       "  <tbody>\n",
       "    <tr>\n",
       "      <th>0</th>\n",
       "      <td>337</td>\n",
       "      <td>118</td>\n",
       "      <td>4</td>\n",
       "      <td>4.5</td>\n",
       "      <td>4.5</td>\n",
       "      <td>9.65</td>\n",
       "      <td>1</td>\n",
       "      <td>1</td>\n",
       "    </tr>\n",
       "    <tr>\n",
       "      <th>1</th>\n",
       "      <td>324</td>\n",
       "      <td>107</td>\n",
       "      <td>4</td>\n",
       "      <td>4.0</td>\n",
       "      <td>4.5</td>\n",
       "      <td>8.87</td>\n",
       "      <td>1</td>\n",
       "      <td>1</td>\n",
       "    </tr>\n",
       "    <tr>\n",
       "      <th>2</th>\n",
       "      <td>316</td>\n",
       "      <td>104</td>\n",
       "      <td>3</td>\n",
       "      <td>3.0</td>\n",
       "      <td>3.5</td>\n",
       "      <td>8.00</td>\n",
       "      <td>0</td>\n",
       "      <td>1</td>\n",
       "    </tr>\n",
       "    <tr>\n",
       "      <th>3</th>\n",
       "      <td>322</td>\n",
       "      <td>110</td>\n",
       "      <td>3</td>\n",
       "      <td>3.5</td>\n",
       "      <td>2.5</td>\n",
       "      <td>8.67</td>\n",
       "      <td>1</td>\n",
       "      <td>1</td>\n",
       "    </tr>\n",
       "    <tr>\n",
       "      <th>4</th>\n",
       "      <td>314</td>\n",
       "      <td>103</td>\n",
       "      <td>2</td>\n",
       "      <td>2.0</td>\n",
       "      <td>3.0</td>\n",
       "      <td>8.21</td>\n",
       "      <td>0</td>\n",
       "      <td>0</td>\n",
       "    </tr>\n",
       "  </tbody>\n",
       "</table>\n",
       "</div>"
      ],
      "text/plain": [
       "   GRE Score  TOEFL Score  University Rating  SOP  LOR  CGPA  Chance of Admit  \\\n",
       "0        337          118                  4  4.5  4.5  9.65                1   \n",
       "1        324          107                  4  4.0  4.5  8.87                1   \n",
       "2        316          104                  3  3.0  3.5  8.00                0   \n",
       "3        322          110                  3  3.5  2.5  8.67                1   \n",
       "4        314          103                  2  2.0  3.0  8.21                0   \n",
       "\n",
       "   Research_1  \n",
       "0           1  \n",
       "1           1  \n",
       "2           1  \n",
       "3           1  \n",
       "4           0  "
      ]
     },
     "execution_count": 97,
     "metadata": {},
     "output_type": "execute_result"
    }
   ],
   "source": [
    "df.head()"
   ]
  },
  {
   "cell_type": "markdown",
   "metadata": {},
   "source": [
    "## splitting the dataset."
   ]
  },
  {
   "cell_type": "code",
   "execution_count": 98,
   "metadata": {},
   "outputs": [],
   "source": [
    "## lets split the dataset into train and test:\n",
    "\n",
    "X = df.drop('Chance of Admit',axis=1)\n",
    "Xc = sm.add_constant(X)\n",
    "y = df['Chance of Admit']\n",
    "\n",
    "X_train, X_test, y_train, y_test = train_test_split(Xc, y, test_size=0.2, random_state=10)"
   ]
  },
  {
   "cell_type": "markdown",
   "metadata": {},
   "source": [
    "## scaling the dataset."
   ]
  },
  {
   "cell_type": "code",
   "execution_count": 99,
   "metadata": {},
   "outputs": [],
   "source": [
    "## lets scale the data ( dont scale the dummys*****)\n",
    "ss = StandardScaler()\n",
    "\n",
    "X_train.iloc[:,1:7] = ss.fit_transform(X_train.iloc[:,1:7])\n",
    "\n",
    "X_test.iloc[:,1:7] = ss.transform(X_test.iloc[:,1:7])"
   ]
  },
  {
   "cell_type": "code",
   "execution_count": 100,
   "metadata": {},
   "outputs": [
    {
     "data": {
      "text/html": [
       "<div>\n",
       "<style scoped>\n",
       "    .dataframe tbody tr th:only-of-type {\n",
       "        vertical-align: middle;\n",
       "    }\n",
       "\n",
       "    .dataframe tbody tr th {\n",
       "        vertical-align: top;\n",
       "    }\n",
       "\n",
       "    .dataframe thead th {\n",
       "        text-align: right;\n",
       "    }\n",
       "</style>\n",
       "<table border=\"1\" class=\"dataframe\">\n",
       "  <thead>\n",
       "    <tr style=\"text-align: right;\">\n",
       "      <th></th>\n",
       "      <th>const</th>\n",
       "      <th>GRE Score</th>\n",
       "      <th>TOEFL Score</th>\n",
       "      <th>University Rating</th>\n",
       "      <th>SOP</th>\n",
       "      <th>LOR</th>\n",
       "      <th>CGPA</th>\n",
       "      <th>Research_1</th>\n",
       "    </tr>\n",
       "  </thead>\n",
       "  <tbody>\n",
       "    <tr>\n",
       "      <th>303</th>\n",
       "      <td>1.0</td>\n",
       "      <td>0.587727</td>\n",
       "      <td>-0.029126</td>\n",
       "      <td>-0.055711</td>\n",
       "      <td>0.137448</td>\n",
       "      <td>0.079080</td>\n",
       "      <td>-0.058748</td>\n",
       "      <td>1</td>\n",
       "    </tr>\n",
       "    <tr>\n",
       "      <th>349</th>\n",
       "      <td>1.0</td>\n",
       "      <td>-0.283787</td>\n",
       "      <td>-1.027731</td>\n",
       "      <td>-0.055711</td>\n",
       "      <td>-0.850942</td>\n",
       "      <td>-0.471041</td>\n",
       "      <td>-0.907216</td>\n",
       "      <td>0</td>\n",
       "    </tr>\n",
       "    <tr>\n",
       "      <th>149</th>\n",
       "      <td>1.0</td>\n",
       "      <td>-0.458089</td>\n",
       "      <td>-0.195560</td>\n",
       "      <td>-0.947079</td>\n",
       "      <td>0.137448</td>\n",
       "      <td>-0.471041</td>\n",
       "      <td>-0.541210</td>\n",
       "      <td>1</td>\n",
       "    </tr>\n",
       "    <tr>\n",
       "      <th>100</th>\n",
       "      <td>1.0</td>\n",
       "      <td>0.500576</td>\n",
       "      <td>-0.029126</td>\n",
       "      <td>-0.055711</td>\n",
       "      <td>0.137448</td>\n",
       "      <td>0.079080</td>\n",
       "      <td>-0.208478</td>\n",
       "      <td>1</td>\n",
       "    </tr>\n",
       "    <tr>\n",
       "      <th>175</th>\n",
       "      <td>1.0</td>\n",
       "      <td>0.326273</td>\n",
       "      <td>0.636611</td>\n",
       "      <td>0.835658</td>\n",
       "      <td>1.125838</td>\n",
       "      <td>0.079080</td>\n",
       "      <td>0.473624</td>\n",
       "      <td>1</td>\n",
       "    </tr>\n",
       "  </tbody>\n",
       "</table>\n",
       "</div>"
      ],
      "text/plain": [
       "     const  GRE Score  TOEFL Score  University Rating       SOP       LOR  \\\n",
       "303    1.0   0.587727    -0.029126          -0.055711  0.137448  0.079080   \n",
       "349    1.0  -0.283787    -1.027731          -0.055711 -0.850942 -0.471041   \n",
       "149    1.0  -0.458089    -0.195560          -0.947079  0.137448 -0.471041   \n",
       "100    1.0   0.500576    -0.029126          -0.055711  0.137448  0.079080   \n",
       "175    1.0   0.326273     0.636611           0.835658  1.125838  0.079080   \n",
       "\n",
       "         CGPA  Research_1  \n",
       "303 -0.058748           1  \n",
       "349 -0.907216           0  \n",
       "149 -0.541210           1  \n",
       "100 -0.208478           1  \n",
       "175  0.473624           1  "
      ]
     },
     "execution_count": 100,
     "metadata": {},
     "output_type": "execute_result"
    }
   ],
   "source": [
    "X_train.head()"
   ]
  },
  {
   "cell_type": "code",
   "execution_count": 101,
   "metadata": {},
   "outputs": [
    {
     "data": {
      "text/html": [
       "<div>\n",
       "<style scoped>\n",
       "    .dataframe tbody tr th:only-of-type {\n",
       "        vertical-align: middle;\n",
       "    }\n",
       "\n",
       "    .dataframe tbody tr th {\n",
       "        vertical-align: top;\n",
       "    }\n",
       "\n",
       "    .dataframe thead th {\n",
       "        text-align: right;\n",
       "    }\n",
       "</style>\n",
       "<table border=\"1\" class=\"dataframe\">\n",
       "  <thead>\n",
       "    <tr style=\"text-align: right;\">\n",
       "      <th></th>\n",
       "      <th>const</th>\n",
       "      <th>GRE Score</th>\n",
       "      <th>TOEFL Score</th>\n",
       "      <th>University Rating</th>\n",
       "      <th>SOP</th>\n",
       "      <th>LOR</th>\n",
       "      <th>CGPA</th>\n",
       "      <th>Research_1</th>\n",
       "    </tr>\n",
       "  </thead>\n",
       "  <tbody>\n",
       "    <tr>\n",
       "      <th>332</th>\n",
       "      <td>1.0</td>\n",
       "      <td>-0.719543</td>\n",
       "      <td>-0.195560</td>\n",
       "      <td>-0.055711</td>\n",
       "      <td>0.137448</td>\n",
       "      <td>-1.021161</td>\n",
       "      <td>-0.624393</td>\n",
       "      <td>1</td>\n",
       "    </tr>\n",
       "    <tr>\n",
       "      <th>111</th>\n",
       "      <td>1.0</td>\n",
       "      <td>0.413424</td>\n",
       "      <td>0.303742</td>\n",
       "      <td>0.835658</td>\n",
       "      <td>0.631643</td>\n",
       "      <td>0.629200</td>\n",
       "      <td>0.157528</td>\n",
       "      <td>1</td>\n",
       "    </tr>\n",
       "    <tr>\n",
       "      <th>352</th>\n",
       "      <td>1.0</td>\n",
       "      <td>-1.155300</td>\n",
       "      <td>-1.194166</td>\n",
       "      <td>-0.947079</td>\n",
       "      <td>-0.356747</td>\n",
       "      <td>0.079080</td>\n",
       "      <td>-0.873943</td>\n",
       "      <td>1</td>\n",
       "    </tr>\n",
       "    <tr>\n",
       "      <th>205</th>\n",
       "      <td>1.0</td>\n",
       "      <td>-1.852511</td>\n",
       "      <td>-1.360600</td>\n",
       "      <td>-0.947079</td>\n",
       "      <td>-0.850942</td>\n",
       "      <td>-0.471041</td>\n",
       "      <td>-1.556045</td>\n",
       "      <td>0</td>\n",
       "    </tr>\n",
       "    <tr>\n",
       "      <th>56</th>\n",
       "      <td>1.0</td>\n",
       "      <td>-0.022333</td>\n",
       "      <td>-0.861297</td>\n",
       "      <td>-0.055711</td>\n",
       "      <td>-1.345137</td>\n",
       "      <td>-0.471041</td>\n",
       "      <td>-1.971960</td>\n",
       "      <td>0</td>\n",
       "    </tr>\n",
       "  </tbody>\n",
       "</table>\n",
       "</div>"
      ],
      "text/plain": [
       "     const  GRE Score  TOEFL Score  University Rating       SOP       LOR  \\\n",
       "332    1.0  -0.719543    -0.195560          -0.055711  0.137448 -1.021161   \n",
       "111    1.0   0.413424     0.303742           0.835658  0.631643  0.629200   \n",
       "352    1.0  -1.155300    -1.194166          -0.947079 -0.356747  0.079080   \n",
       "205    1.0  -1.852511    -1.360600          -0.947079 -0.850942 -0.471041   \n",
       "56     1.0  -0.022333    -0.861297          -0.055711 -1.345137 -0.471041   \n",
       "\n",
       "         CGPA  Research_1  \n",
       "332 -0.624393           1  \n",
       "111  0.157528           1  \n",
       "352 -0.873943           1  \n",
       "205 -1.556045           0  \n",
       "56  -1.971960           0  "
      ]
     },
     "execution_count": 101,
     "metadata": {},
     "output_type": "execute_result"
    }
   ],
   "source": [
    "X_test.head()"
   ]
  },
  {
   "cell_type": "markdown",
   "metadata": {},
   "source": [
    "## building logreg full model."
   ]
  },
  {
   "cell_type": "code",
   "execution_count": 102,
   "metadata": {},
   "outputs": [
    {
     "name": "stdout",
     "output_type": "stream",
     "text": [
      "Optimization terminated successfully.\n",
      "         Current function value: 0.241326\n",
      "         Iterations 8\n",
      "                           Logit Regression Results                           \n",
      "==============================================================================\n",
      "Dep. Variable:        Chance of Admit   No. Observations:                  320\n",
      "Model:                          Logit   Df Residuals:                      312\n",
      "Method:                           MLE   Df Model:                            7\n",
      "Date:                Tue, 22 Jun 2021   Pseudo R-squ.:                  0.6486\n",
      "Time:                        09:32:32   Log-Likelihood:                -77.224\n",
      "converged:                       True   LL-Null:                       -219.78\n",
      "Covariance Type:            nonrobust   LLR p-value:                 9.137e-58\n",
      "=====================================================================================\n",
      "                        coef    std err          z      P>|z|      [0.025      0.975]\n",
      "-------------------------------------------------------------------------------------\n",
      "const                -0.8427      0.325     -2.593      0.010      -1.479      -0.206\n",
      "GRE Score             0.6103      0.447      1.365      0.172      -0.266       1.487\n",
      "TOEFL Score           0.1972      0.400      0.493      0.622      -0.587       0.981\n",
      "University Rating     0.5778      0.376      1.535      0.125      -0.160       1.316\n",
      "SOP                   0.1779      0.376      0.473      0.636      -0.559       0.915\n",
      "LOR                   0.5184      0.312      1.662      0.096      -0.093       1.130\n",
      "CGPA                  2.6516      0.549      4.832      0.000       1.576       3.727\n",
      "Research_1            0.5819      0.465      1.251      0.211      -0.329       1.493\n",
      "=====================================================================================\n"
     ]
    }
   ],
   "source": [
    "## Logistic Regression (Full model):\n",
    "\n",
    "logreg = sm.Logit(y_train, X_train).fit()\n",
    "print(logreg.summary())"
   ]
  },
  {
   "cell_type": "markdown",
   "metadata": {},
   "source": [
    "## Interpretation."
   ]
  },
  {
   "cell_type": "code",
   "execution_count": 103,
   "metadata": {},
   "outputs": [],
   "source": [
    "## puesdo r-squared value - mcfadden's r-squared value::\n",
    "\n",
    "\n",
    "## p-value is lesser than 0.05, Thus the model is significant."
   ]
  },
  {
   "cell_type": "markdown",
   "metadata": {},
   "source": [
    "## AIC (Akaike information criterion)."
   ]
  },
  {
   "cell_type": "code",
   "execution_count": 104,
   "metadata": {},
   "outputs": [],
   "source": [
    "## lets calculate the AIC ( Akaike Information criterion) value.\n",
    "## it is the relative measure of model evaluation.\n",
    "## it gives a trade-off bw model accuracy and model complexcity."
   ]
  },
  {
   "cell_type": "code",
   "execution_count": 105,
   "metadata": {},
   "outputs": [
    {
     "name": "stdout",
     "output_type": "stream",
     "text": [
      "AIC:  170.44859325107456\n"
     ]
    }
   ],
   "source": [
    "print('AIC: ',logreg.aic)"
   ]
  },
  {
   "cell_type": "code",
   "execution_count": 106,
   "metadata": {},
   "outputs": [],
   "source": [
    "## we can use the aic value to compare the models created on the same datset."
   ]
  },
  {
   "cell_type": "markdown",
   "metadata": {},
   "source": [
    "## Odds"
   ]
  },
  {
   "cell_type": "code",
   "execution_count": 107,
   "metadata": {},
   "outputs": [
    {
     "data": {
      "text/html": [
       "<div>\n",
       "<style scoped>\n",
       "    .dataframe tbody tr th:only-of-type {\n",
       "        vertical-align: middle;\n",
       "    }\n",
       "\n",
       "    .dataframe tbody tr th {\n",
       "        vertical-align: top;\n",
       "    }\n",
       "\n",
       "    .dataframe thead th {\n",
       "        text-align: right;\n",
       "    }\n",
       "</style>\n",
       "<table border=\"1\" class=\"dataframe\">\n",
       "  <thead>\n",
       "    <tr style=\"text-align: right;\">\n",
       "      <th></th>\n",
       "      <th>odds</th>\n",
       "    </tr>\n",
       "  </thead>\n",
       "  <tbody>\n",
       "    <tr>\n",
       "      <th>const</th>\n",
       "      <td>0.430565</td>\n",
       "    </tr>\n",
       "    <tr>\n",
       "      <th>GRE Score</th>\n",
       "      <td>1.840944</td>\n",
       "    </tr>\n",
       "    <tr>\n",
       "      <th>TOEFL Score</th>\n",
       "      <td>1.217940</td>\n",
       "    </tr>\n",
       "    <tr>\n",
       "      <th>University Rating</th>\n",
       "      <td>1.782060</td>\n",
       "    </tr>\n",
       "    <tr>\n",
       "      <th>SOP</th>\n",
       "      <td>1.194659</td>\n",
       "    </tr>\n",
       "    <tr>\n",
       "      <th>LOR</th>\n",
       "      <td>1.679287</td>\n",
       "    </tr>\n",
       "    <tr>\n",
       "      <th>CGPA</th>\n",
       "      <td>14.176716</td>\n",
       "    </tr>\n",
       "    <tr>\n",
       "      <th>Research_1</th>\n",
       "      <td>1.789418</td>\n",
       "    </tr>\n",
       "  </tbody>\n",
       "</table>\n",
       "</div>"
      ],
      "text/plain": [
       "                        odds\n",
       "const               0.430565\n",
       "GRE Score           1.840944\n",
       "TOEFL Score         1.217940\n",
       "University Rating   1.782060\n",
       "SOP                 1.194659\n",
       "LOR                 1.679287\n",
       "CGPA               14.176716\n",
       "Research_1          1.789418"
      ]
     },
     "execution_count": 107,
     "metadata": {},
     "output_type": "execute_result"
    }
   ],
   "source": [
    "## finding the odds for each variable.\n",
    "\n",
    "df_odds = pd.DataFrame(np.exp(logreg.params), columns=['odds'])\n",
    "df_odds"
   ]
  },
  {
   "cell_type": "markdown",
   "metadata": {},
   "source": [
    "## predicting on the test data."
   ]
  },
  {
   "cell_type": "code",
   "execution_count": 108,
   "metadata": {},
   "outputs": [
    {
     "data": {
      "text/plain": [
       "332    0.050634\n",
       "111    0.800663\n",
       "352    0.016492\n",
       "205    0.000668\n",
       "56     0.001146\n",
       "dtype: float64"
      ]
     },
     "execution_count": 108,
     "metadata": {},
     "output_type": "execute_result"
    }
   ],
   "source": [
    "y_test_pred = logreg.predict(X_test)\n",
    "y_test_pred.head()"
   ]
  },
  {
   "cell_type": "code",
   "execution_count": 109,
   "metadata": {},
   "outputs": [],
   "source": [
    "## since the target variable can take only two values either 0 or 1.\n",
    "## we decide the cut-off value to be i.e 0.5.\n",
    "## if y-test-pred value greater than 0.5 then 1, esle 0."
   ]
  },
  {
   "cell_type": "code",
   "execution_count": 110,
   "metadata": {},
   "outputs": [
    {
     "data": {
      "text/plain": [
       "[0, 1, 0, 0, 0]"
      ]
     },
     "execution_count": 110,
     "metadata": {},
     "output_type": "execute_result"
    }
   ],
   "source": [
    "y_pred = [0 if x<0.5 else 1  for x in y_test_pred]\n",
    "y_pred[:5]"
   ]
  },
  {
   "cell_type": "markdown",
   "metadata": {},
   "source": [
    "## confusion matrix."
   ]
  },
  {
   "cell_type": "code",
   "execution_count": 111,
   "metadata": {},
   "outputs": [
    {
     "data": {
      "text/plain": [
       "array([[33,  9],\n",
       "       [ 5, 33]], dtype=int64)"
      ]
     },
     "execution_count": 111,
     "metadata": {},
     "output_type": "execute_result"
    }
   ],
   "source": [
    "cm = confusion_matrix(y_test,y_pred)\n",
    "cm"
   ]
  },
  {
   "cell_type": "code",
   "execution_count": 112,
   "metadata": {},
   "outputs": [],
   "source": [
    "## True positive: actual '1' values which are classified correctly.\n",
    "TP = cm[1,1]\n",
    "\n",
    "## True negative: actual '0' values which are classified correctly.\n",
    "TN = cm[0,0]\n",
    "\n",
    "## False positive: actual '0' values which are classified wrongly as '1'.\n",
    "FP = cm[0,1]\n",
    "\n",
    "## False negative: acutal '1' values which are classified wrongly as '0'\n",
    "FN = cm[1,0]"
   ]
  },
  {
   "cell_type": "markdown",
   "metadata": {},
   "source": [
    "## computing various performance metrics."
   ]
  },
  {
   "cell_type": "code",
   "execution_count": 113,
   "metadata": {},
   "outputs": [
    {
     "data": {
      "text/plain": [
       "0.7857142857142857"
      ]
     },
     "execution_count": 113,
     "metadata": {},
     "output_type": "execute_result"
    }
   ],
   "source": [
    "## Precision: it is ratio of true positives to the total positive predictions.\n",
    "precision = TP / (TP+FP)\n",
    "precision"
   ]
  },
  {
   "cell_type": "code",
   "execution_count": 114,
   "metadata": {},
   "outputs": [
    {
     "data": {
      "text/plain": [
       "0.868421052631579"
      ]
     },
     "execution_count": 114,
     "metadata": {},
     "output_type": "execute_result"
    }
   ],
   "source": [
    "## Recall: It is the ratio of true positives to the total actual positive observations.\n",
    "## it is also know as *******Sensitivity or True positive Rate.*******\n",
    "recall = TP / (TP+FN)\n",
    "recall"
   ]
  },
  {
   "cell_type": "code",
   "execution_count": 115,
   "metadata": {},
   "outputs": [
    {
     "data": {
      "text/plain": [
       "0.7857142857142857"
      ]
     },
     "execution_count": 115,
     "metadata": {},
     "output_type": "execute_result"
    }
   ],
   "source": [
    "## Specificity: it is the ratio of true neagtives to the total negative observations.\n",
    "specificity = TN / (TN+FP)\n",
    "specificity"
   ]
  },
  {
   "cell_type": "code",
   "execution_count": 116,
   "metadata": {},
   "outputs": [
    {
     "data": {
      "text/plain": [
       "0.825"
      ]
     },
     "execution_count": 116,
     "metadata": {},
     "output_type": "execute_result"
    }
   ],
   "source": [
    "## f1-score: It is defined as the harmonic mean of precision and recall.\n",
    "f1_score = 2*((precision*recall)/(precision+recall))\n",
    "f1_score"
   ]
  },
  {
   "cell_type": "code",
   "execution_count": 117,
   "metadata": {},
   "outputs": [
    {
     "data": {
      "text/plain": [
       "0.825"
      ]
     },
     "execution_count": 117,
     "metadata": {},
     "output_type": "execute_result"
    }
   ],
   "source": [
    "## Accuracy: it is the ratio of correct predictions (TN+TP) to the total observations.\n",
    "## According to the confusion matrix, it is the sum of diagonal elements to the sum of all in the matrix.\n",
    "## it is not very good measure if the dataset is imbalanced.\n",
    "accuracy = (TN+TP) / (TN+TP+FN+FP)\n",
    "accuracy"
   ]
  },
  {
   "cell_type": "markdown",
   "metadata": {},
   "source": [
    "#### Interpretation: For our dataset, both the accuracy and f1-score are equal. we can say that our model is 82.5% accurate."
   ]
  },
  {
   "cell_type": "code",
   "execution_count": 118,
   "metadata": {},
   "outputs": [
    {
     "name": "stdout",
     "output_type": "stream",
     "text": [
      "              precision    recall  f1-score   support\n",
      "\n",
      "           0       0.87      0.79      0.82        42\n",
      "           1       0.79      0.87      0.82        38\n",
      "\n",
      "    accuracy                           0.82        80\n",
      "   macro avg       0.83      0.83      0.82        80\n",
      "weighted avg       0.83      0.82      0.82        80\n",
      "\n"
     ]
    }
   ],
   "source": [
    "## classification report.\n",
    "acc_table = classification_report(y_test, y_pred)\n",
    "print(acc_table)"
   ]
  },
  {
   "cell_type": "markdown",
   "metadata": {},
   "source": [
    "### Interpretation:\n",
    "- from the above output, we can infer that the recall of the positive class is known as sensitivity and the recall of negative class is specificty."
   ]
  },
  {
   "cell_type": "markdown",
   "metadata": {},
   "source": [
    "#### **Kappa score**: It is a measure of inter-rater reliability. For logistic regression, the actual and predicted values of the target variable are the raters."
   ]
  },
  {
   "cell_type": "code",
   "execution_count": 119,
   "metadata": {},
   "outputs": [
    {
     "name": "stdout",
     "output_type": "stream",
     "text": [
      "kappa-score: 0.6508728179551122\n"
     ]
    }
   ],
   "source": [
    "kappa = cohen_kappa_score(y_test,y_pred)\n",
    "print('kappa-score:',kappa)"
   ]
  },
  {
   "cell_type": "markdown",
   "metadata": {},
   "source": [
    "#### Interpretation: As the kappa score for the full model (with cutoff probability 0.5) is 0.6509, we can say that there is substantial agreement b/w the actual and predicted values."
   ]
  },
  {
   "cell_type": "markdown",
   "metadata": {},
   "source": [
    "## Plot the ROC curve:\n",
    "- ROC curve is plotted with the true positive rate (tpr) on the y-axis and false positive rate (fpr) on the x-axis. The area under this curve is used as a measure of separability of the model."
   ]
  },
  {
   "cell_type": "code",
   "execution_count": 120,
   "metadata": {},
   "outputs": [],
   "source": [
    "fpr, tpr, thresholds = roc_curve(y_test, y_test_pred)"
   ]
  },
  {
   "cell_type": "code",
   "execution_count": 121,
   "metadata": {},
   "outputs": [
    {
     "data": {
      "text/plain": [
       "[<matplotlib.lines.Line2D at 0x20813856f70>]"
      ]
     },
     "execution_count": 121,
     "metadata": {},
     "output_type": "execute_result"
    },
    {
     "data": {
      "image/png": "[encoded data removed]",
      "text/plain": [
       "<Figure size 432x288 with 1 Axes>"
      ]
     },
     "metadata": {
      "needs_background": "light"
     },
     "output_type": "display_data"
    }
   ],
   "source": [
    "plt.plot(fpr, tpr)\n",
    "\n",
    "plt.xlim([0.0, 1.0])\n",
    "plt.ylim([0.0, 1.0])\n",
    "\n",
    "plt.plot([0,1],[0,1],'r--')"
   ]
  },
  {
   "cell_type": "code",
   "execution_count": 122,
   "metadata": {},
   "outputs": [
    {
     "data": {
      "text/plain": [
       "0.93671679197995"
      ]
     },
     "execution_count": 122,
     "metadata": {},
     "output_type": "execute_result"
    }
   ],
   "source": [
    "metrics.roc_auc_score(y_test,y_test_pred)"
   ]
  },
  {
   "cell_type": "code",
   "execution_count": null,
   "metadata": {},
   "outputs": [],
   "source": [
    "\n",
    "\n",
    "\n",
    "\n",
    "\n"
   ]
  },
  {
   "cell_type": "markdown",
   "metadata": {},
   "source": [
    "## Identify the Best Cut-off Value.\n",
    "- The performance measures that we obtained above, are for the cut_off = 0.5. Now, let us consider a list of values as cut-off and calculate the different performance measures."
   ]
  },
  {
   "cell_type": "markdown",
   "metadata": {},
   "source": [
    "#### Creating generalized function to create a dataframe containing the scores of the models."
   ]
  },
  {
   "cell_type": "code",
   "execution_count": 123,
   "metadata": {},
   "outputs": [],
   "source": [
    "score_card = pd.DataFrame(columns=['Probability Cutoff','AUC Score','Precision score','Recall score','Accuracy score','kappa score','f1-score'])\n",
    "\n",
    "def update_score_card(model, cutoff):\n",
    "    \n",
    "    y_test_pred = logreg.predict(X_test)\n",
    "    y_pred = [0 if x<cutoff else 1 for x in y_test_pred]\n",
    "    \n",
    "    global score_card\n",
    "    \n",
    "    score_card = score_card.append({'Probability Cutoff':cutoff,\n",
    "                                   'AUC Score':metrics.roc_auc_score(y_test,y_pred),\n",
    "                                   'Precision score':metrics.precision_score(y_test,y_pred),\n",
    "                                   'Recall score':metrics.recall_score(y_test,y_pred),\n",
    "                                   'Accuracy score':metrics.accuracy_score(y_test,y_pred),\n",
    "                                   'kappa score':metrics.cohen_kappa_score(y_test,y_pred),\n",
    "                                   'f1-score':metrics.f1_score(y_test,y_pred)},\n",
    "                                    ignore_index=True)    "
   ]
  },
  {
   "cell_type": "code",
   "execution_count": 124,
   "metadata": {},
   "outputs": [],
   "source": [
    "cutoff = [0.1, 0.2, 0.3, 0.4, 0.5, 0.6, 0.7, 0.8, 0.9]\n",
    "\n",
    "for value in cutoff:\n",
    "    update_score_card(logreg, value)"
   ]
  },
  {
   "cell_type": "code",
   "execution_count": 125,
   "metadata": {},
   "outputs": [
    {
     "data": {
      "text/html": [
       "<style  type=\"text/css\" >\n",
       "#T_ac005a4c_d30e_11eb_8797_bc17b825f836row5_col1,#T_ac005a4c_d30e_11eb_8797_bc17b825f836row5_col4,#T_ac005a4c_d30e_11eb_8797_bc17b825f836row5_col5,#T_ac005a4c_d30e_11eb_8797_bc17b825f836row5_col6{\n",
       "            background-color:  lightgreen;\n",
       "        }</style><table id=\"T_ac005a4c_d30e_11eb_8797_bc17b825f836\" ><thead>    <tr>        <th class=\"blank level0\" ></th>        <th class=\"col_heading level0 col0\" >Probability Cutoff</th>        <th class=\"col_heading level0 col1\" >AUC Score</th>        <th class=\"col_heading level0 col2\" >Precision score</th>        <th class=\"col_heading level0 col3\" >Recall score</th>        <th class=\"col_heading level0 col4\" >Accuracy score</th>        <th class=\"col_heading level0 col5\" >kappa score</th>        <th class=\"col_heading level0 col6\" >f1-score</th>    </tr></thead><tbody>\n",
       "                <tr>\n",
       "                        <th id=\"T_ac005a4c_d30e_11eb_8797_bc17b825f836level0_row0\" class=\"row_heading level0 row0\" >0</th>\n",
       "                        <td id=\"T_ac005a4c_d30e_11eb_8797_bc17b825f836row0_col0\" class=\"data row0 col0\" >0.100000</td>\n",
       "                        <td id=\"T_ac005a4c_d30e_11eb_8797_bc17b825f836row0_col1\" class=\"data row0 col1\" >0.760652</td>\n",
       "                        <td id=\"T_ac005a4c_d30e_11eb_8797_bc17b825f836row0_col2\" class=\"data row0 col2\" >0.660714</td>\n",
       "                        <td id=\"T_ac005a4c_d30e_11eb_8797_bc17b825f836row0_col3\" class=\"data row0 col3\" >0.973684</td>\n",
       "                        <td id=\"T_ac005a4c_d30e_11eb_8797_bc17b825f836row0_col4\" class=\"data row0 col4\" >0.750000</td>\n",
       "                        <td id=\"T_ac005a4c_d30e_11eb_8797_bc17b825f836row0_col5\" class=\"data row0 col5\" >0.509804</td>\n",
       "                        <td id=\"T_ac005a4c_d30e_11eb_8797_bc17b825f836row0_col6\" class=\"data row0 col6\" >0.787234</td>\n",
       "            </tr>\n",
       "            <tr>\n",
       "                        <th id=\"T_ac005a4c_d30e_11eb_8797_bc17b825f836level0_row1\" class=\"row_heading level0 row1\" >1</th>\n",
       "                        <td id=\"T_ac005a4c_d30e_11eb_8797_bc17b825f836row1_col0\" class=\"data row1 col0\" >0.200000</td>\n",
       "                        <td id=\"T_ac005a4c_d30e_11eb_8797_bc17b825f836row1_col1\" class=\"data row1 col1\" >0.807018</td>\n",
       "                        <td id=\"T_ac005a4c_d30e_11eb_8797_bc17b825f836row1_col2\" class=\"data row1 col2\" >0.720000</td>\n",
       "                        <td id=\"T_ac005a4c_d30e_11eb_8797_bc17b825f836row1_col3\" class=\"data row1 col3\" >0.947368</td>\n",
       "                        <td id=\"T_ac005a4c_d30e_11eb_8797_bc17b825f836row1_col4\" class=\"data row1 col4\" >0.800000</td>\n",
       "                        <td id=\"T_ac005a4c_d30e_11eb_8797_bc17b825f836row1_col5\" class=\"data row1 col5\" >0.604938</td>\n",
       "                        <td id=\"T_ac005a4c_d30e_11eb_8797_bc17b825f836row1_col6\" class=\"data row1 col6\" >0.818182</td>\n",
       "            </tr>\n",
       "            <tr>\n",
       "                        <th id=\"T_ac005a4c_d30e_11eb_8797_bc17b825f836level0_row2\" class=\"row_heading level0 row2\" >2</th>\n",
       "                        <td id=\"T_ac005a4c_d30e_11eb_8797_bc17b825f836row2_col0\" class=\"data row2 col0\" >0.300000</td>\n",
       "                        <td id=\"T_ac005a4c_d30e_11eb_8797_bc17b825f836row2_col1\" class=\"data row2 col1\" >0.829574</td>\n",
       "                        <td id=\"T_ac005a4c_d30e_11eb_8797_bc17b825f836row2_col2\" class=\"data row2 col2\" >0.760870</td>\n",
       "                        <td id=\"T_ac005a4c_d30e_11eb_8797_bc17b825f836row2_col3\" class=\"data row2 col3\" >0.921053</td>\n",
       "                        <td id=\"T_ac005a4c_d30e_11eb_8797_bc17b825f836row2_col4\" class=\"data row2 col4\" >0.825000</td>\n",
       "                        <td id=\"T_ac005a4c_d30e_11eb_8797_bc17b825f836row2_col5\" class=\"data row2 col5\" >0.652605</td>\n",
       "                        <td id=\"T_ac005a4c_d30e_11eb_8797_bc17b825f836row2_col6\" class=\"data row2 col6\" >0.833333</td>\n",
       "            </tr>\n",
       "            <tr>\n",
       "                        <th id=\"T_ac005a4c_d30e_11eb_8797_bc17b825f836level0_row3\" class=\"row_heading level0 row3\" >3</th>\n",
       "                        <td id=\"T_ac005a4c_d30e_11eb_8797_bc17b825f836row3_col0\" class=\"data row3 col0\" >0.400000</td>\n",
       "                        <td id=\"T_ac005a4c_d30e_11eb_8797_bc17b825f836row3_col1\" class=\"data row3 col1\" >0.828321</td>\n",
       "                        <td id=\"T_ac005a4c_d30e_11eb_8797_bc17b825f836row3_col2\" class=\"data row3 col2\" >0.772727</td>\n",
       "                        <td id=\"T_ac005a4c_d30e_11eb_8797_bc17b825f836row3_col3\" class=\"data row3 col3\" >0.894737</td>\n",
       "                        <td id=\"T_ac005a4c_d30e_11eb_8797_bc17b825f836row3_col4\" class=\"data row3 col4\" >0.825000</td>\n",
       "                        <td id=\"T_ac005a4c_d30e_11eb_8797_bc17b825f836row3_col5\" class=\"data row3 col5\" >0.651741</td>\n",
       "                        <td id=\"T_ac005a4c_d30e_11eb_8797_bc17b825f836row3_col6\" class=\"data row3 col6\" >0.829268</td>\n",
       "            </tr>\n",
       "            <tr>\n",
       "                        <th id=\"T_ac005a4c_d30e_11eb_8797_bc17b825f836level0_row4\" class=\"row_heading level0 row4\" >4</th>\n",
       "                        <td id=\"T_ac005a4c_d30e_11eb_8797_bc17b825f836row4_col0\" class=\"data row4 col0\" >0.500000</td>\n",
       "                        <td id=\"T_ac005a4c_d30e_11eb_8797_bc17b825f836row4_col1\" class=\"data row4 col1\" >0.827068</td>\n",
       "                        <td id=\"T_ac005a4c_d30e_11eb_8797_bc17b825f836row4_col2\" class=\"data row4 col2\" >0.785714</td>\n",
       "                        <td id=\"T_ac005a4c_d30e_11eb_8797_bc17b825f836row4_col3\" class=\"data row4 col3\" >0.868421</td>\n",
       "                        <td id=\"T_ac005a4c_d30e_11eb_8797_bc17b825f836row4_col4\" class=\"data row4 col4\" >0.825000</td>\n",
       "                        <td id=\"T_ac005a4c_d30e_11eb_8797_bc17b825f836row4_col5\" class=\"data row4 col5\" >0.650873</td>\n",
       "                        <td id=\"T_ac005a4c_d30e_11eb_8797_bc17b825f836row4_col6\" class=\"data row4 col6\" >0.825000</td>\n",
       "            </tr>\n",
       "            <tr>\n",
       "                        <th id=\"T_ac005a4c_d30e_11eb_8797_bc17b825f836level0_row5\" class=\"row_heading level0 row5\" >5</th>\n",
       "                        <td id=\"T_ac005a4c_d30e_11eb_8797_bc17b825f836row5_col0\" class=\"data row5 col0\" >0.600000</td>\n",
       "                        <td id=\"T_ac005a4c_d30e_11eb_8797_bc17b825f836row5_col1\" class=\"data row5 col1\" >0.862782</td>\n",
       "                        <td id=\"T_ac005a4c_d30e_11eb_8797_bc17b825f836row5_col2\" class=\"data row5 col2\" >0.846154</td>\n",
       "                        <td id=\"T_ac005a4c_d30e_11eb_8797_bc17b825f836row5_col3\" class=\"data row5 col3\" >0.868421</td>\n",
       "                        <td id=\"T_ac005a4c_d30e_11eb_8797_bc17b825f836row5_col4\" class=\"data row5 col4\" >0.862500</td>\n",
       "                        <td id=\"T_ac005a4c_d30e_11eb_8797_bc17b825f836row5_col5\" class=\"data row5 col5\" >0.724656</td>\n",
       "                        <td id=\"T_ac005a4c_d30e_11eb_8797_bc17b825f836row5_col6\" class=\"data row5 col6\" >0.857143</td>\n",
       "            </tr>\n",
       "            <tr>\n",
       "                        <th id=\"T_ac005a4c_d30e_11eb_8797_bc17b825f836level0_row6\" class=\"row_heading level0 row6\" >6</th>\n",
       "                        <td id=\"T_ac005a4c_d30e_11eb_8797_bc17b825f836row6_col0\" class=\"data row6 col0\" >0.700000</td>\n",
       "                        <td id=\"T_ac005a4c_d30e_11eb_8797_bc17b825f836row6_col1\" class=\"data row6 col1\" >0.823308</td>\n",
       "                        <td id=\"T_ac005a4c_d30e_11eb_8797_bc17b825f836row6_col2\" class=\"data row6 col2\" >0.833333</td>\n",
       "                        <td id=\"T_ac005a4c_d30e_11eb_8797_bc17b825f836row6_col3\" class=\"data row6 col3\" >0.789474</td>\n",
       "                        <td id=\"T_ac005a4c_d30e_11eb_8797_bc17b825f836row6_col4\" class=\"data row6 col4\" >0.825000</td>\n",
       "                        <td id=\"T_ac005a4c_d30e_11eb_8797_bc17b825f836row6_col5\" class=\"data row6 col5\" >0.648241</td>\n",
       "                        <td id=\"T_ac005a4c_d30e_11eb_8797_bc17b825f836row6_col6\" class=\"data row6 col6\" >0.810811</td>\n",
       "            </tr>\n",
       "            <tr>\n",
       "                        <th id=\"T_ac005a4c_d30e_11eb_8797_bc17b825f836level0_row7\" class=\"row_heading level0 row7\" >7</th>\n",
       "                        <td id=\"T_ac005a4c_d30e_11eb_8797_bc17b825f836row7_col0\" class=\"data row7 col0\" >0.800000</td>\n",
       "                        <td id=\"T_ac005a4c_d30e_11eb_8797_bc17b825f836row7_col1\" class=\"data row7 col1\" >0.822055</td>\n",
       "                        <td id=\"T_ac005a4c_d30e_11eb_8797_bc17b825f836row7_col2\" class=\"data row7 col2\" >0.852941</td>\n",
       "                        <td id=\"T_ac005a4c_d30e_11eb_8797_bc17b825f836row7_col3\" class=\"data row7 col3\" >0.763158</td>\n",
       "                        <td id=\"T_ac005a4c_d30e_11eb_8797_bc17b825f836row7_col4\" class=\"data row7 col4\" >0.825000</td>\n",
       "                        <td id=\"T_ac005a4c_d30e_11eb_8797_bc17b825f836row7_col5\" class=\"data row7 col5\" >0.647355</td>\n",
       "                        <td id=\"T_ac005a4c_d30e_11eb_8797_bc17b825f836row7_col6\" class=\"data row7 col6\" >0.805556</td>\n",
       "            </tr>\n",
       "            <tr>\n",
       "                        <th id=\"T_ac005a4c_d30e_11eb_8797_bc17b825f836level0_row8\" class=\"row_heading level0 row8\" >8</th>\n",
       "                        <td id=\"T_ac005a4c_d30e_11eb_8797_bc17b825f836row8_col0\" class=\"data row8 col0\" >0.900000</td>\n",
       "                        <td id=\"T_ac005a4c_d30e_11eb_8797_bc17b825f836row8_col1\" class=\"data row8 col1\" >0.803885</td>\n",
       "                        <td id=\"T_ac005a4c_d30e_11eb_8797_bc17b825f836row8_col2\" class=\"data row8 col2\" >0.960000</td>\n",
       "                        <td id=\"T_ac005a4c_d30e_11eb_8797_bc17b825f836row8_col3\" class=\"data row8 col3\" >0.631579</td>\n",
       "                        <td id=\"T_ac005a4c_d30e_11eb_8797_bc17b825f836row8_col4\" class=\"data row8 col4\" >0.812500</td>\n",
       "                        <td id=\"T_ac005a4c_d30e_11eb_8797_bc17b825f836row8_col5\" class=\"data row8 col5\" >0.617834</td>\n",
       "                        <td id=\"T_ac005a4c_d30e_11eb_8797_bc17b825f836row8_col6\" class=\"data row8 col6\" >0.761905</td>\n",
       "            </tr>\n",
       "    </tbody></table>"
      ],
      "text/plain": [
       "<pandas.io.formats.style.Styler at 0x208138ba550>"
      ]
     },
     "execution_count": 125,
     "metadata": {},
     "output_type": "execute_result"
    }
   ],
   "source": [
    "score_card\n",
    "score_card.style.highlight_max(color='lightgreen',subset=['AUC Score','Accuracy score','kappa score','f1-score'])"
   ]
  },
  {
   "cell_type": "markdown",
   "metadata": {},
   "source": [
    "#### Interpretation: The above dataframe shows that, the model cutt_off probability 0.6, returns the highest Auc score, f1-score, kappa score and accuracy.\n"
   ]
  },
  {
   "cell_type": "markdown",
   "metadata": {},
   "source": [
    "#### In the above method, we passed a list of values, for the cutoff, but this method is not efficient as one can pass different values and obtain a cutoff based on the passed values."
   ]
  },
  {
   "cell_type": "code",
   "execution_count": null,
   "metadata": {},
   "outputs": [],
   "source": [
    "\n",
    "\n",
    "\n",
    "\n",
    "\n",
    "\n",
    "\n"
   ]
  },
  {
   "cell_type": "markdown",
   "metadata": {},
   "source": [
    "### To obtain the optimal cut-off value we use the following methods.\n",
    "1. Younden's index.\n",
    "2. Cost-based Method."
   ]
  },
  {
   "cell_type": "markdown",
   "metadata": {},
   "source": [
    "### 1. Younden's Index.\n",
    "- Younden's index is the classification cut-off probability for which the (Sensitivity + Specificity -1 ) is maximized.\n",
    "- Youden's Index = max(Sensitivity + Specificity - 1) = max(TPR + TNR - 1) = max(TPR - FPR)"
   ]
  },
  {
   "cell_type": "code",
   "execution_count": 126,
   "metadata": {},
   "outputs": [
    {
     "data": {
      "text/html": [
       "<div>\n",
       "<style scoped>\n",
       "    .dataframe tbody tr th:only-of-type {\n",
       "        vertical-align: middle;\n",
       "    }\n",
       "\n",
       "    .dataframe tbody tr th {\n",
       "        vertical-align: top;\n",
       "    }\n",
       "\n",
       "    .dataframe thead th {\n",
       "        text-align: right;\n",
       "    }\n",
       "</style>\n",
       "<table border=\"1\" class=\"dataframe\">\n",
       "  <thead>\n",
       "    <tr style=\"text-align: right;\">\n",
       "      <th></th>\n",
       "      <th>TPR</th>\n",
       "      <th>FPR</th>\n",
       "      <th>Thresholds</th>\n",
       "      <th>Difference</th>\n",
       "    </tr>\n",
       "  </thead>\n",
       "  <tbody>\n",
       "    <tr>\n",
       "      <th>0</th>\n",
       "      <td>0.868421</td>\n",
       "      <td>0.142857</td>\n",
       "      <td>0.618555</td>\n",
       "      <td>0.725564</td>\n",
       "    </tr>\n",
       "    <tr>\n",
       "      <th>1</th>\n",
       "      <td>0.763158</td>\n",
       "      <td>0.047619</td>\n",
       "      <td>0.841912</td>\n",
       "      <td>0.715539</td>\n",
       "    </tr>\n",
       "    <tr>\n",
       "      <th>2</th>\n",
       "      <td>0.710526</td>\n",
       "      <td>0.023810</td>\n",
       "      <td>0.860956</td>\n",
       "      <td>0.686717</td>\n",
       "    </tr>\n",
       "    <tr>\n",
       "      <th>3</th>\n",
       "      <td>0.921053</td>\n",
       "      <td>0.238095</td>\n",
       "      <td>0.380299</td>\n",
       "      <td>0.682957</td>\n",
       "    </tr>\n",
       "    <tr>\n",
       "      <th>4</th>\n",
       "      <td>0.710526</td>\n",
       "      <td>0.047619</td>\n",
       "      <td>0.858806</td>\n",
       "      <td>0.662907</td>\n",
       "    </tr>\n",
       "  </tbody>\n",
       "</table>\n",
       "</div>"
      ],
      "text/plain": [
       "        TPR       FPR  Thresholds  Difference\n",
       "0  0.868421  0.142857    0.618555    0.725564\n",
       "1  0.763158  0.047619    0.841912    0.715539\n",
       "2  0.710526  0.023810    0.860956    0.686717\n",
       "3  0.921053  0.238095    0.380299    0.682957\n",
       "4  0.710526  0.047619    0.858806    0.662907"
      ]
     },
     "execution_count": 126,
     "metadata": {},
     "output_type": "execute_result"
    }
   ],
   "source": [
    "youndens_table = pd.DataFrame({'TPR':tpr,\n",
    "                               'FPR':fpr,\n",
    "                               'Thresholds':thresholds})\n",
    "\n",
    "youndens_table['Difference'] = youndens_table.TPR - youndens_table.FPR\n",
    "\n",
    "youndens_table = youndens_table.sort_values('Difference',ascending=False).reset_index(drop=True)\n",
    "\n",
    "youndens_table.head()"
   ]
  },
  {
   "cell_type": "markdown",
   "metadata": {},
   "source": [
    "#### As we can see that maximum cut-off probability is approximately 0.62, let us consider this as cut-off to predict the target values."
   ]
  },
  {
   "cell_type": "code",
   "execution_count": 127,
   "metadata": {},
   "outputs": [
    {
     "data": {
      "text/plain": [
       "[0, 1, 0, 0, 0]"
      ]
     },
     "execution_count": 127,
     "metadata": {},
     "output_type": "execute_result"
    }
   ],
   "source": [
    "y_test_pred_younden = [0 if x<0.62 else 1 for x in y_test_pred]\n",
    "y_test_pred_younden[:5]"
   ]
  },
  {
   "cell_type": "code",
   "execution_count": 128,
   "metadata": {},
   "outputs": [
    {
     "data": {
      "text/plain": [
       "array([[36,  6],\n",
       "       [ 6, 32]], dtype=int64)"
      ]
     },
     "execution_count": 128,
     "metadata": {},
     "output_type": "execute_result"
    }
   ],
   "source": [
    "### Confusion matrix:\n",
    "cm = confusion_matrix(y_test, y_test_pred_younden)\n",
    "cm"
   ]
  },
  {
   "cell_type": "code",
   "execution_count": 129,
   "metadata": {},
   "outputs": [
    {
     "name": "stdout",
     "output_type": "stream",
     "text": [
      "              precision    recall  f1-score   support\n",
      "\n",
      "           0       0.86      0.86      0.86        42\n",
      "           1       0.84      0.84      0.84        38\n",
      "\n",
      "    accuracy                           0.85        80\n",
      "   macro avg       0.85      0.85      0.85        80\n",
      "weighted avg       0.85      0.85      0.85        80\n",
      "\n"
     ]
    }
   ],
   "source": [
    "### classification report:\n",
    "acc_table = classification_report(y_test,y_test_pred_younden)\n",
    "print(acc_table)"
   ]
  },
  {
   "cell_type": "markdown",
   "metadata": {},
   "source": [
    "#### Interpretation: From the above output, we can see that the model with 0.62 cut-off, is 85% accurate. The specificity and the sensitivity are nearly balanced."
   ]
  },
  {
   "cell_type": "code",
   "execution_count": 130,
   "metadata": {},
   "outputs": [
    {
     "name": "stdout",
     "output_type": "stream",
     "text": [
      "kappa-score:  0.6992481203007519\n"
     ]
    }
   ],
   "source": [
    "### kappa-score:\n",
    "kappa = cohen_kappa_score(y_test, y_test_pred_younden)\n",
    "print('kappa-score: ',kappa)"
   ]
  },
  {
   "cell_type": "markdown",
   "metadata": {},
   "source": [
    "#### Interpretation: As the Kappa score for the full model(with cut-off probability 0.62) is 0.6992, we can say that there is substantial agrrement bw the actual and predicted values."
   ]
  },
  {
   "cell_type": "code",
   "execution_count": null,
   "metadata": {},
   "outputs": [],
   "source": []
  },
  {
   "cell_type": "code",
   "execution_count": null,
   "metadata": {},
   "outputs": [],
   "source": [
    "\n",
    "\n",
    "\n",
    "\n",
    "\n"
   ]
  },
  {
   "cell_type": "markdown",
   "metadata": {},
   "source": [
    "## 2. Cost-based Method.\n",
    "- In this method, we find the optimal value of the cut-off for which the total cost is minimum. The total cost is given by the formula:\n",
    "\n",
    "- total_cost = FN x C_1 + FP x C_2"
   ]
  },
  {
   "cell_type": "code",
   "execution_count": 131,
   "metadata": {},
   "outputs": [],
   "source": [
    "def calculate_total_cost(actual_value, predicted_value, cost_FN, cost_FP):\n",
    "    \n",
    "    cm = confusion_matrix(actual_value, predicted_value)\n",
    "    \n",
    "    return cm[1,0] * cost_FN + cm[0,1] * cost_FP\n",
    "\n",
    "df_total_cost = pd.DataFrame(columns=['cut-off','total_cost'])\n",
    "i=0\n",
    "\n",
    "for cut_off in range(10,100):\n",
    "    total_cost = calculate_total_cost(y_test, y_test_pred.map(lambda x: 1 if x>(cut_off/100) else 0), 3.5, 2)\n",
    "    df_total_cost.loc[i] = [(cut_off/100), total_cost]\n",
    "    \n",
    "    i+=1"
   ]
  },
  {
   "cell_type": "code",
   "execution_count": 132,
   "metadata": {},
   "outputs": [
    {
     "data": {
      "text/html": [
       "<div>\n",
       "<style scoped>\n",
       "    .dataframe tbody tr th:only-of-type {\n",
       "        vertical-align: middle;\n",
       "    }\n",
       "\n",
       "    .dataframe tbody tr th {\n",
       "        vertical-align: top;\n",
       "    }\n",
       "\n",
       "    .dataframe thead th {\n",
       "        text-align: right;\n",
       "    }\n",
       "</style>\n",
       "<table border=\"1\" class=\"dataframe\">\n",
       "  <thead>\n",
       "    <tr style=\"text-align: right;\">\n",
       "      <th></th>\n",
       "      <th>cut-off</th>\n",
       "      <th>total_cost</th>\n",
       "    </tr>\n",
       "  </thead>\n",
       "  <tbody>\n",
       "    <tr>\n",
       "      <th>46</th>\n",
       "      <td>0.56</td>\n",
       "      <td>29.5</td>\n",
       "    </tr>\n",
       "    <tr>\n",
       "      <th>47</th>\n",
       "      <td>0.57</td>\n",
       "      <td>29.5</td>\n",
       "    </tr>\n",
       "    <tr>\n",
       "      <th>48</th>\n",
       "      <td>0.58</td>\n",
       "      <td>29.5</td>\n",
       "    </tr>\n",
       "    <tr>\n",
       "      <th>49</th>\n",
       "      <td>0.59</td>\n",
       "      <td>29.5</td>\n",
       "    </tr>\n",
       "    <tr>\n",
       "      <th>50</th>\n",
       "      <td>0.60</td>\n",
       "      <td>29.5</td>\n",
       "    </tr>\n",
       "    <tr>\n",
       "      <th>51</th>\n",
       "      <td>0.61</td>\n",
       "      <td>29.5</td>\n",
       "    </tr>\n",
       "    <tr>\n",
       "      <th>26</th>\n",
       "      <td>0.36</td>\n",
       "      <td>30.5</td>\n",
       "    </tr>\n",
       "    <tr>\n",
       "      <th>27</th>\n",
       "      <td>0.37</td>\n",
       "      <td>30.5</td>\n",
       "    </tr>\n",
       "    <tr>\n",
       "      <th>28</th>\n",
       "      <td>0.38</td>\n",
       "      <td>30.5</td>\n",
       "    </tr>\n",
       "    <tr>\n",
       "      <th>25</th>\n",
       "      <td>0.35</td>\n",
       "      <td>30.5</td>\n",
       "    </tr>\n",
       "  </tbody>\n",
       "</table>\n",
       "</div>"
      ],
      "text/plain": [
       "    cut-off  total_cost\n",
       "46     0.56        29.5\n",
       "47     0.57        29.5\n",
       "48     0.58        29.5\n",
       "49     0.59        29.5\n",
       "50     0.60        29.5\n",
       "51     0.61        29.5\n",
       "26     0.36        30.5\n",
       "27     0.37        30.5\n",
       "28     0.38        30.5\n",
       "25     0.35        30.5"
      ]
     },
     "execution_count": 132,
     "metadata": {},
     "output_type": "execute_result"
    }
   ],
   "source": [
    "df_total_cost.sort_values('total_cost', ascending = True).head(10)"
   ]
  },
  {
   "cell_type": "markdown",
   "metadata": {},
   "source": [
    "#### from the above output we can see that, the total_cost is same for the cut-off probability values 0.56, 0.57, 0.58. 0.59, 0.60, 0.61. Thus, we can consider any of these values as the cut-off probability."
   ]
  },
  {
   "cell_type": "markdown",
   "metadata": {},
   "source": [
    "#### Here we considering the cut-off value as 0.58. i.e, if y_test_pred is less than 0.58, then consider it to be 0 else consider as 1."
   ]
  },
  {
   "cell_type": "code",
   "execution_count": 133,
   "metadata": {},
   "outputs": [
    {
     "data": {
      "text/plain": [
       "[0, 1, 0, 0, 0]"
      ]
     },
     "execution_count": 133,
     "metadata": {},
     "output_type": "execute_result"
    }
   ],
   "source": [
    "y_test_pred_cost = [0 if x<0.58 else 1 for x in y_test_pred]\n",
    "y_test_pred_cost[:5]"
   ]
  },
  {
   "cell_type": "code",
   "execution_count": 134,
   "metadata": {},
   "outputs": [
    {
     "data": {
      "text/plain": [
       "array([[36,  6],\n",
       "       [ 5, 33]], dtype=int64)"
      ]
     },
     "execution_count": 134,
     "metadata": {},
     "output_type": "execute_result"
    }
   ],
   "source": [
    "## Confusion matrix:\n",
    "cm = confusion_matrix(y_test,y_test_pred_cost)\n",
    "cm"
   ]
  },
  {
   "cell_type": "code",
   "execution_count": 135,
   "metadata": {},
   "outputs": [
    {
     "name": "stdout",
     "output_type": "stream",
     "text": [
      "              precision    recall  f1-score   support\n",
      "\n",
      "           0       0.88      0.86      0.87        42\n",
      "           1       0.85      0.87      0.86        38\n",
      "\n",
      "    accuracy                           0.86        80\n",
      "   macro avg       0.86      0.86      0.86        80\n",
      "weighted avg       0.86      0.86      0.86        80\n",
      "\n"
     ]
    }
   ],
   "source": [
    "## Classification report:\n",
    "acc_table = classification_report(y_test,y_test_pred_cost)\n",
    "print(acc_table)"
   ]
  },
  {
   "cell_type": "markdown",
   "metadata": {},
   "source": [
    "#### Interpretation: From the above output, we can see that the model with cut-off = 0.58 ids 86% accurate."
   ]
  },
  {
   "cell_type": "code",
   "execution_count": 136,
   "metadata": {},
   "outputs": [
    {
     "name": "stdout",
     "output_type": "stream",
     "text": [
      "kappa-score:  0.7246558197747184\n"
     ]
    }
   ],
   "source": [
    "## kappa score:\n",
    "kappa = cohen_kappa_score(y_test,y_test_pred_cost)\n",
    "print('kappa-score: ',kappa)"
   ]
  },
  {
   "cell_type": "markdown",
   "metadata": {},
   "source": [
    "#### Interpretation: As the kappa score for the full model (with cut-off probability 0.58) is 0.7247, we can say that there is substantial agreement between the actual and predicted values."
   ]
  },
  {
   "cell_type": "code",
   "execution_count": null,
   "metadata": {},
   "outputs": [],
   "source": [
    "\n",
    "\n",
    "\n",
    "\n",
    "\n",
    "\n"
   ]
  },
  {
   "cell_type": "markdown",
   "metadata": {},
   "source": [
    "## Recursive feature Elimination (RFE):"
   ]
  },
  {
   "cell_type": "code",
   "execution_count": 137,
   "metadata": {},
   "outputs": [],
   "source": [
    "logreg = LogisticRegression()\n",
    "\n",
    "rfe_model = RFE(estimator=logreg, n_features_to_select=3)\n",
    "\n",
    "rfe_model = rfe_model.fit(X_train,y_train)"
   ]
  },
  {
   "cell_type": "code",
   "execution_count": 138,
   "metadata": {},
   "outputs": [
    {
     "data": {
      "text/html": [
       "<div>\n",
       "<style scoped>\n",
       "    .dataframe tbody tr th:only-of-type {\n",
       "        vertical-align: middle;\n",
       "    }\n",
       "\n",
       "    .dataframe tbody tr th {\n",
       "        vertical-align: top;\n",
       "    }\n",
       "\n",
       "    .dataframe thead th {\n",
       "        text-align: right;\n",
       "    }\n",
       "</style>\n",
       "<table border=\"1\" class=\"dataframe\">\n",
       "  <thead>\n",
       "    <tr style=\"text-align: right;\">\n",
       "      <th></th>\n",
       "      <th>Rank</th>\n",
       "    </tr>\n",
       "  </thead>\n",
       "  <tbody>\n",
       "    <tr>\n",
       "      <th>GRE Score</th>\n",
       "      <td>1</td>\n",
       "    </tr>\n",
       "    <tr>\n",
       "      <th>University Rating</th>\n",
       "      <td>1</td>\n",
       "    </tr>\n",
       "    <tr>\n",
       "      <th>CGPA</th>\n",
       "      <td>1</td>\n",
       "    </tr>\n",
       "    <tr>\n",
       "      <th>LOR</th>\n",
       "      <td>2</td>\n",
       "    </tr>\n",
       "    <tr>\n",
       "      <th>Research_1</th>\n",
       "      <td>3</td>\n",
       "    </tr>\n",
       "    <tr>\n",
       "      <th>TOEFL Score</th>\n",
       "      <td>4</td>\n",
       "    </tr>\n",
       "    <tr>\n",
       "      <th>SOP</th>\n",
       "      <td>5</td>\n",
       "    </tr>\n",
       "    <tr>\n",
       "      <th>const</th>\n",
       "      <td>6</td>\n",
       "    </tr>\n",
       "  </tbody>\n",
       "</table>\n",
       "</div>"
      ],
      "text/plain": [
       "                   Rank\n",
       "GRE Score             1\n",
       "University Rating     1\n",
       "CGPA                  1\n",
       "LOR                   2\n",
       "Research_1            3\n",
       "TOEFL Score           4\n",
       "SOP                   5\n",
       "const                 6"
      ]
     },
     "execution_count": 138,
     "metadata": {},
     "output_type": "execute_result"
    }
   ],
   "source": [
    "rank = pd.DataFrame(rfe_model.ranking_,index=X_train.columns,columns=['Rank'])\n",
    "rank.sort_values('Rank')"
   ]
  },
  {
   "cell_type": "code",
   "execution_count": 139,
   "metadata": {},
   "outputs": [
    {
     "data": {
      "text/plain": [
       "Index(['GRE Score', 'University Rating', 'CGPA'], dtype='object')"
      ]
     },
     "execution_count": 139,
     "metadata": {},
     "output_type": "execute_result"
    }
   ],
   "source": [
    "rank[rank['Rank']==1].index"
   ]
  },
  {
   "cell_type": "code",
   "execution_count": 140,
   "metadata": {},
   "outputs": [
    {
     "name": "stdout",
     "output_type": "stream",
     "text": [
      "Optimization terminated successfully.\n",
      "         Current function value: 0.251732\n",
      "         Iterations 8\n",
      "                           Logit Regression Results                           \n",
      "==============================================================================\n",
      "Dep. Variable:        Chance of Admit   No. Observations:                  320\n",
      "Model:                          Logit   Df Residuals:                      316\n",
      "Method:                           MLE   Df Model:                            3\n",
      "Date:                Tue, 22 Jun 2021   Pseudo R-squ.:                  0.6335\n",
      "Time:                        09:32:34   Log-Likelihood:                -80.554\n",
      "converged:                       True   LL-Null:                       -219.78\n",
      "Covariance Type:            nonrobust   LLR p-value:                 4.590e-60\n",
      "=====================================================================================\n",
      "                        coef    std err          z      P>|z|      [0.025      0.975]\n",
      "-------------------------------------------------------------------------------------\n",
      "const                -0.5459      0.208     -2.627      0.009      -0.953      -0.139\n",
      "GRE Score             0.8542      0.372      2.294      0.022       0.124       1.584\n",
      "University Rating     0.8601      0.326      2.637      0.008       0.221       1.499\n",
      "CGPA                  2.8909      0.513      5.635      0.000       1.885       3.896\n",
      "=====================================================================================\n"
     ]
    }
   ],
   "source": [
    "## fitting the model using the selected features:\n",
    "logreg_rfe = sm.Logit(y_train, X_train[['const','GRE Score', 'University Rating', 'CGPA']]).fit()\n",
    "\n",
    "print(logreg_rfe.summary())"
   ]
  },
  {
   "cell_type": "code",
   "execution_count": 141,
   "metadata": {},
   "outputs": [
    {
     "name": "stdout",
     "output_type": "stream",
     "text": [
      "AIC: 169.10857896399273\n"
     ]
    }
   ],
   "source": [
    "## AIC\n",
    "print('AIC:',logreg_rfe.aic)"
   ]
  },
  {
   "cell_type": "code",
   "execution_count": 142,
   "metadata": {},
   "outputs": [
    {
     "data": {
      "text/plain": [
       "332    0.046820\n",
       "111    0.727388\n",
       "352    0.007586\n",
       "205    0.000586\n",
       "56     0.001808\n",
       "dtype: float64"
      ]
     },
     "execution_count": 142,
     "metadata": {},
     "output_type": "execute_result"
    }
   ],
   "source": [
    "## predicting the values on test set\n",
    "y_test_pred_rfe = logreg_rfe.predict(X_test[['const','GRE Score', 'University Rating', 'CGPA']])\n",
    "y_test_pred_rfe.head()"
   ]
  },
  {
   "cell_type": "markdown",
   "metadata": {},
   "source": [
    "#### Since the target variable can take only two values either 0 or 1. We consider the cut-off value 0.6. i.e. if 'y_pred_prob_rfe' is less than 0.6, then consider it to be 0 else consider it to be 1"
   ]
  },
  {
   "cell_type": "code",
   "execution_count": 143,
   "metadata": {},
   "outputs": [
    {
     "data": {
      "text/plain": [
       "[0, 1, 0, 0, 0]"
      ]
     },
     "execution_count": 143,
     "metadata": {},
     "output_type": "execute_result"
    }
   ],
   "source": [
    "y_pred_rfe = [0 if x<0.6 else 1 for x in y_test_pred_rfe]\n",
    "y_pred_rfe[:5]"
   ]
  },
  {
   "cell_type": "code",
   "execution_count": 144,
   "metadata": {},
   "outputs": [
    {
     "data": {
      "text/plain": [
       "array([[36,  6],\n",
       "       [ 7, 31]], dtype=int64)"
      ]
     },
     "execution_count": 144,
     "metadata": {},
     "output_type": "execute_result"
    }
   ],
   "source": [
    "## Confusion matrix:\n",
    "cm = confusion_matrix(y_test,y_pred_rfe)\n",
    "cm"
   ]
  },
  {
   "cell_type": "code",
   "execution_count": 145,
   "metadata": {},
   "outputs": [
    {
     "name": "stdout",
     "output_type": "stream",
     "text": [
      "              precision    recall  f1-score   support\n",
      "\n",
      "           0       0.84      0.86      0.85        42\n",
      "           1       0.84      0.82      0.83        38\n",
      "\n",
      "    accuracy                           0.84        80\n",
      "   macro avg       0.84      0.84      0.84        80\n",
      "weighted avg       0.84      0.84      0.84        80\n",
      "\n"
     ]
    }
   ],
   "source": [
    "## Classification report:\n",
    "result = classification_report(y_test, y_pred_rfe)\n",
    "print(result)"
   ]
  },
  {
   "cell_type": "markdown",
   "metadata": {},
   "source": [
    "#### Interpretation: From the above output, we can see that the model with cut-off = 0.6 is 84% accurate."
   ]
  },
  {
   "cell_type": "code",
   "execution_count": 146,
   "metadata": {},
   "outputs": [
    {
     "name": "stdout",
     "output_type": "stream",
     "text": [
      "kappa value: 0.6737766624843162\n"
     ]
    }
   ],
   "source": [
    "# compute the kappa value\n",
    "kappa = cohen_kappa_score(y_test, y_pred_rfe)\n",
    "print('kappa value:',kappa)"
   ]
  },
  {
   "cell_type": "markdown",
   "metadata": {},
   "source": [
    "#### Interpretation: As the kappa score for the full model (with cut-off probability 0.6) is 0.6738, we can say that there is substantial agreement between the actual and predicted values."
   ]
  },
  {
   "cell_type": "code",
   "execution_count": 147,
   "metadata": {},
   "outputs": [
    {
     "data": {
      "text/plain": [
       "[<matplotlib.lines.Line2D at 0x20812102730>]"
      ]
     },
     "execution_count": 147,
     "metadata": {},
     "output_type": "execute_result"
    },
    {
     "data": {
      "image/png": "[encoded data removed]",
      "text/plain": [
       "<Figure size 432x288 with 1 Axes>"
      ]
     },
     "metadata": {
      "needs_background": "light"
     },
     "output_type": "display_data"
    }
   ],
   "source": [
    "fpr, tpr, thresholds = roc_curve(y_test, y_test_pred_rfe)\n",
    "\n",
    "plt.xlim([0.0,1.0])\n",
    "plt.ylim([0.0,1.0])\n",
    "\n",
    "plt.plot([0,1],[0,1],'r--')\n",
    "\n",
    "plt.plot(fpr,tpr)"
   ]
  },
  {
   "cell_type": "code",
   "execution_count": 148,
   "metadata": {},
   "outputs": [
    {
     "data": {
      "text/plain": [
       "0.9273182957393484"
      ]
     },
     "execution_count": 148,
     "metadata": {},
     "output_type": "execute_result"
    }
   ],
   "source": [
    "metrics.roc_auc_score(y_test,y_test_pred_rfe)"
   ]
  },
  {
   "cell_type": "code",
   "execution_count": null,
   "metadata": {},
   "outputs": [],
   "source": [
    "\n",
    "\n",
    "\n",
    "\n",
    "\n",
    "\n"
   ]
  },
  {
   "cell_type": "markdown",
   "metadata": {},
   "source": [
    "# Day 2"
   ]
  },
  {
   "cell_type": "code",
   "execution_count": 213,
   "metadata": {},
   "outputs": [],
   "source": [
    "X = df.drop('Chance of Admit',axis=1)\n",
    "y = df['Chance of Admit']\n",
    "\n",
    "X_train, X_test, y_train, y_test = train_test_split(X, y, test_size=0.2, random_state=10)"
   ]
  },
  {
   "cell_type": "code",
   "execution_count": 214,
   "metadata": {},
   "outputs": [],
   "source": [
    "ss = StandardScaler()\n",
    "\n",
    "X_train.iloc[:,1:6] = ss.fit_transform(X_train.iloc[:,1:6])\n",
    "\n",
    "X_test.iloc[:,1:6] = ss.transform(X_test.iloc[:,1:6])"
   ]
  },
  {
   "cell_type": "code",
   "execution_count": 215,
   "metadata": {},
   "outputs": [],
   "source": [
    "from sklearn.tree import DecisionTreeClassifier\n",
    "from sklearn import tree\n",
    "from sklearn.model_selection import GridSearchCV"
   ]
  },
  {
   "cell_type": "markdown",
   "metadata": {},
   "source": [
    "## Decision Tree for Classification"
   ]
  },
  {
   "cell_type": "markdown",
   "metadata": {},
   "source": [
    "- Decision tree is a non parametric supervised learning method.\n",
    "- It builds model in the form of a tree structure.\n",
    "- It breaks down a dataset into smaller and smaller subsets. (called splitting.)\n",
    "- **A decision node is a node on which a decision of split to be made**.\n",
    "- A node that can not be split further is known as the **terminal/leaf node**.\n",
    "- A **leaf node represents the decision**.\n",
    "- A decision tree can work with both numerical and categorical variables."
   ]
  },
  {
   "cell_type": "markdown",
   "metadata": {},
   "source": [
    "### A decision tree for classification is built using critirea like the Gini index and entropy."
   ]
  },
  {
   "cell_type": "markdown",
   "metadata": {},
   "source": [
    "## Entropy.\n",
    "- Entropy is one of the critirea used to build the decision tree.\n",
    "- It calculates the heteroginity of the sample.\n",
    "- The **entropy is zero** if the sample is **completely homogeneous.**\n",
    "- and **it is equal to 1**, if the sample is **equally divided.**\n",
    "- Entropy of the variable 'X' is calculated as:\n",
    "<p style='text-indent:28em'> <strong> $ E(X) =  -\\sum_{i = 1}^{c}p_{i}log_{2}p_{i} $</strong> </p>\n",
    "- And the conditional emtropy of the variable is given as:\n",
    "<p style='text-indent:28em'> <strong> $ E(T, X) = \\sum_{c \\epsilon X}P(c)E(c) $</strong> </p>\n"
   ]
  },
  {
   "cell_type": "code",
   "execution_count": null,
   "metadata": {},
   "outputs": [],
   "source": [
    "\n",
    "\n",
    "\n"
   ]
  },
  {
   "cell_type": "markdown",
   "metadata": {},
   "source": [
    "##### Build a full decision tree model on a train dataset using 'entropy'."
   ]
  },
  {
   "cell_type": "code",
   "execution_count": 150,
   "metadata": {},
   "outputs": [],
   "source": [
    "d_tree_classification = DecisionTreeClassifier(criterion='entropy',random_state=10)\n",
    "\n",
    "decision_tree = d_tree_classification.fit(X_train,y_train)"
   ]
  },
  {
   "cell_type": "markdown",
   "metadata": {},
   "source": [
    "##### To visualize our decision tree we will use Graphviz. If you are an anaconda user then install it by using conda install graphviz otherwise write the command pip install graphviz."
   ]
  },
  {
   "cell_type": "code",
   "execution_count": 180,
   "metadata": {},
   "outputs": [],
   "source": [
    "from sklearn import tree"
   ]
  },
  {
   "cell_type": "code",
   "execution_count": 188,
   "metadata": {},
   "outputs": [
    {
     "data": {
      "image/png": "[encoded data removed]",
      "text/plain": [
       "<Figure size 1440x720 with 1 Axes>"
      ]
     },
     "metadata": {
      "needs_background": "light"
     },
     "output_type": "display_data"
    }
   ],
   "source": [
    "plt.figure(figsize=[20,10])\n",
    "tree.plot_tree(decision_tree, feature_names=X_train.columns, class_names=['0','1'],filled=True)\n",
    "plt.show()"
   ]
  },
  {
   "cell_type": "code",
   "execution_count": 160,
   "metadata": {},
   "outputs": [
    {
     "name": "stdout",
     "output_type": "stream",
     "text": [
      "train-report:  \n",
      "               precision    recall  f1-score   support\n",
      "\n",
      "           0       1.00      1.00      1.00       178\n",
      "           1       1.00      1.00      1.00       142\n",
      "\n",
      "    accuracy                           1.00       320\n",
      "   macro avg       1.00      1.00      1.00       320\n",
      "weighted avg       1.00      1.00      1.00       320\n",
      "\n",
      "\n",
      "\n",
      "test-report:  \n",
      "               precision    recall  f1-score   support\n",
      "\n",
      "           0       0.86      0.88      0.87        42\n",
      "           1       0.86      0.84      0.85        38\n",
      "\n",
      "    accuracy                           0.86        80\n",
      "   macro avg       0.86      0.86      0.86        80\n",
      "weighted avg       0.86      0.86      0.86        80\n",
      "\n"
     ]
    }
   ],
   "source": [
    "y_train_pred = decision_tree.predict(X_train)\n",
    "y_test_pred = decision_tree.predict(X_test)\n",
    "\n",
    "result_train = classification_report(y_train,y_train_pred)\n",
    "result_test = classification_report(y_test,y_test_pred)\n",
    "\n",
    "print('train-report: ','\\n',result_train)\n",
    "print('\\n')\n",
    "print('test-report: ','\\n',result_test)"
   ]
  },
  {
   "cell_type": "markdown",
   "metadata": {},
   "source": [
    "##### Interpretation: From the above Output, we can see that there is a difference b/w the train and test accuracy, thus we can conclude that the decision tree is over-fitted on the train data."
   ]
  },
  {
   "cell_type": "markdown",
   "metadata": {},
   "source": [
    "### If we tune the Hyperparameters in the decision tree, it helps to avoid the over-fitting of the tree."
   ]
  },
  {
   "cell_type": "markdown",
   "metadata": {},
   "source": [
    "# Tune the Hyperparameters using GridsearchCV (Decision Tree)."
   ]
  },
  {
   "cell_type": "code",
   "execution_count": 171,
   "metadata": {},
   "outputs": [],
   "source": [
    "tuned_parameters = [{'criterion':['entropy','gini'],\n",
    "                    'max_depth':range(2, 10),\n",
    "                    'max_features':['sqrt','log2'],\n",
    "                    'min_samples_split':range(2,10),\n",
    "                    'min_samples_leaf':range(1,10),\n",
    "                    'max_leaf_nodes':range(1,10)}]\n",
    "\n",
    "d_tree_classification = DecisionTreeClassifier(random_state=100)\n",
    "\n",
    "\n",
    "tree_grid = GridSearchCV(estimator=d_tree_classification,\n",
    "                        param_grid= tuned_parameters,\n",
    "                        cv = 5)\n",
    "\n",
    "tree_grid_model = tree_grid.fit(X_train,y_train)"
   ]
  },
  {
   "cell_type": "code",
   "execution_count": 172,
   "metadata": {},
   "outputs": [
    {
     "data": {
      "text/plain": [
       "{'criterion': 'gini',\n",
       " 'max_depth': 4,\n",
       " 'max_features': 'sqrt',\n",
       " 'max_leaf_nodes': 8,\n",
       " 'min_samples_leaf': 2,\n",
       " 'min_samples_split': 8}"
      ]
     },
     "execution_count": 172,
     "metadata": {},
     "output_type": "execute_result"
    }
   ],
   "source": [
    "tree_grid_model.best_params_"
   ]
  },
  {
   "cell_type": "code",
   "execution_count": 173,
   "metadata": {},
   "outputs": [],
   "source": [
    "## Build the model using tuned hyperparameters:\n",
    "final_tree = DecisionTreeClassifier(criterion='gini',\n",
    "                                   max_depth=4,\n",
    "                                   max_features='sqrt',\n",
    "                                   max_leaf_nodes=8,\n",
    "                                   min_samples_leaf=2,\n",
    "                                   min_samples_split=8)\n",
    "\n",
    "final_tree_model = final_tree.fit(X_train,y_train)"
   ]
  },
  {
   "cell_type": "code",
   "execution_count": 190,
   "metadata": {},
   "outputs": [
    {
     "data": {
      "image/png": "[encoded data removed]",
      "text/plain": [
       "<Figure size 432x288 with 1 Axes>"
      ]
     },
     "metadata": {
      "needs_background": "light"
     },
     "output_type": "display_data"
    }
   ],
   "source": [
    "tree.plot_tree(final_tree_model,feature_names=X_train.columns, class_names=['0','1'],filled=True)\n",
    "plt.show()"
   ]
  },
  {
   "cell_type": "code",
   "execution_count": 174,
   "metadata": {},
   "outputs": [
    {
     "name": "stdout",
     "output_type": "stream",
     "text": [
      "train-report:  \n",
      "               precision    recall  f1-score   support\n",
      "\n",
      "           0       0.85      0.95      0.90       178\n",
      "           1       0.93      0.80      0.86       142\n",
      "\n",
      "    accuracy                           0.88       320\n",
      "   macro avg       0.89      0.87      0.88       320\n",
      "weighted avg       0.89      0.88      0.88       320\n",
      "\n",
      "\n",
      "\n",
      "test-report:  \n",
      "               precision    recall  f1-score   support\n",
      "\n",
      "           0       0.89      0.95      0.92        42\n",
      "           1       0.94      0.87      0.90        38\n",
      "\n",
      "    accuracy                           0.91        80\n",
      "   macro avg       0.92      0.91      0.91        80\n",
      "weighted avg       0.91      0.91      0.91        80\n",
      "\n"
     ]
    }
   ],
   "source": [
    "y_train_pred = final_tree.predict(X_train)\n",
    "y_test_pred = final_tree.predict(X_test)\n",
    "\n",
    "result_train = classification_report(y_train,y_train_pred)\n",
    "result_test = classification_report(y_test,y_test_pred)\n",
    "\n",
    "print('train-report: ','\\n',result_train)\n",
    "print('\\n')\n",
    "print('test-report: ','\\n',result_test)"
   ]
  },
  {
   "cell_type": "markdown",
   "metadata": {},
   "source": [
    "**Interpretation:** The `accuracy` of the test dataset increased from 0.86 to 0.91 after tuning of the hyperparameters. Also, the sensitivity and specificity of the model are balanced."
   ]
  },
  {
   "cell_type": "markdown",
   "metadata": {},
   "source": [
    "# Gini Index."
   ]
  },
  {
   "cell_type": "markdown",
   "metadata": {},
   "source": [
    "##### Build a decision tree using 'criterion = gini', 'max_depth = 5', 'min_samples_split = 4', 'max_leaf_nodes = 6'."
   ]
  },
  {
   "cell_type": "code",
   "execution_count": 176,
   "metadata": {},
   "outputs": [],
   "source": [
    "d_tree = DecisionTreeClassifier(criterion='gini',\n",
    "                               max_depth=5,\n",
    "                               min_samples_split=4,\n",
    "                               max_leaf_nodes=6,\n",
    "                               random_state=10)\n",
    "\n",
    "d_tree_model = d_tree.fit(X_train,y_train)"
   ]
  },
  {
   "cell_type": "code",
   "execution_count": 177,
   "metadata": {},
   "outputs": [],
   "source": [
    "y_train_pred = d_tree_model.predict(X_train)\n",
    "y_test_pred = d_tree_model.predict(X_test)"
   ]
  },
  {
   "cell_type": "code",
   "execution_count": 178,
   "metadata": {},
   "outputs": [
    {
     "name": "stdout",
     "output_type": "stream",
     "text": [
      "train_report:  \n",
      "               precision    recall  f1-score   support\n",
      "\n",
      "           0       0.89      0.96      0.92       178\n",
      "           1       0.94      0.85      0.89       142\n",
      "\n",
      "    accuracy                           0.91       320\n",
      "   macro avg       0.91      0.90      0.90       320\n",
      "weighted avg       0.91      0.91      0.91       320\n",
      "\n",
      "test_report:  \n",
      "               precision    recall  f1-score   support\n",
      "\n",
      "           0       0.84      0.88      0.86        42\n",
      "           1       0.86      0.82      0.84        38\n",
      "\n",
      "    accuracy                           0.85        80\n",
      "   macro avg       0.85      0.85      0.85        80\n",
      "weighted avg       0.85      0.85      0.85        80\n",
      "\n"
     ]
    }
   ],
   "source": [
    "train_report = classification_report(y_train,y_train_pred)\n",
    "test_report = classification_report(y_test,y_test_pred)\n",
    "\n",
    "print('train_report: ','\\n',train_report)\n",
    "print('test_report: ','\\n',test_report)"
   ]
  },
  {
   "cell_type": "markdown",
   "metadata": {},
   "source": [
    "##### Interpretation: From the above result, we can see that there is slight significant difference b/w the train and test accuracy, thus, we can conclude that the decision tree is less over-fitted after specifying some of the hyperparameters. "
   ]
  },
  {
   "cell_type": "code",
   "execution_count": null,
   "metadata": {},
   "outputs": [],
   "source": [
    "\n",
    "\n",
    "\n"
   ]
  },
  {
   "cell_type": "markdown",
   "metadata": {},
   "source": [
    "# Random Forest for Classification.\n",
    "- It is the **method of constructing multiple decision trees on randomly selected data samples**\n",
    "-  We can use the bootstrap sampling method to select the random samples of the same size from the dataset to construct multiple trees.\n",
    "- This method is used for both regression and classification analysis. \n",
    "- The random forest returns the prediction based on all the individual decision trees prediction.\n",
    "- **For regression,** it returns the **average of all the predicted values.**\n",
    "- and **for classification,** it returns the class, which is the **mode of all the predicted classes.**\n",
    "\n",
    "- It avoids the over-fitting problem as it considers a random data sample to construct a decision tree."
   ]
  },
  {
   "cell_type": "code",
   "execution_count": 191,
   "metadata": {},
   "outputs": [],
   "source": [
    "from sklearn.ensemble import RandomForestClassifier"
   ]
  },
  {
   "cell_type": "code",
   "execution_count": 192,
   "metadata": {},
   "outputs": [],
   "source": [
    "RF_classification = RandomForestClassifier(n_estimators=10, random_state=10)\n",
    "\n",
    "RF_model = RF_classification.fit(X_train, y_train)"
   ]
  },
  {
   "cell_type": "code",
   "execution_count": 195,
   "metadata": {},
   "outputs": [
    {
     "name": "stdout",
     "output_type": "stream",
     "text": [
      "train-report: \n",
      "               precision    recall  f1-score   support\n",
      "\n",
      "           0       0.99      1.00      0.99       178\n",
      "           1       1.00      0.99      0.99       142\n",
      "\n",
      "    accuracy                           0.99       320\n",
      "   macro avg       0.99      0.99      0.99       320\n",
      "weighted avg       0.99      0.99      0.99       320\n",
      "\n",
      "test-report: \n",
      "               precision    recall  f1-score   support\n",
      "\n",
      "           0       0.84      0.86      0.85        42\n",
      "           1       0.84      0.82      0.83        38\n",
      "\n",
      "    accuracy                           0.84        80\n",
      "   macro avg       0.84      0.84      0.84        80\n",
      "weighted avg       0.84      0.84      0.84        80\n",
      "\n"
     ]
    }
   ],
   "source": [
    "## calculating the performance measures:\n",
    "y_train_pred = RF_model.predict(X_train)\n",
    "y_test_pred = RF_model.predict(X_test)\n",
    "\n",
    "print('train-report:','\\n',classification_report(y_train, y_train_pred))\n",
    "print('test-report:','\\n',classification_report(y_test, y_test_pred))"
   ]
  },
  {
   "cell_type": "markdown",
   "metadata": {},
   "source": [
    "## Tune the Hyperparameters using GridSearchCV (Random Forest)"
   ]
  },
  {
   "cell_type": "code",
   "execution_count": 198,
   "metadata": {},
   "outputs": [],
   "source": [
    "tuned_parameters = [{'criterion':['entropy','gini'],\n",
    "                    'n_estimators':[10,30,50,70,90],\n",
    "                    'max_depth':[10,15,20],\n",
    "                    'max_features':['sqrt','log'],\n",
    "                    'min_samples_split':[2,5,8,11],\n",
    "                     'min_samples_leaf':[1,5,9],\n",
    "                     'max_leaf_nodes':[2,5,8,11]}]\n",
    "\n",
    "\n",
    "random_forest = RandomForestClassifier(random_state=10)\n",
    "\n",
    "random_f_grid = GridSearchCV(estimator=random_forest,\n",
    "                             param_grid=tuned_parameters,\n",
    "                             cv = 5)\n",
    "\n",
    "random_f_grid_model = random_f_grid.fit(X_train,y_train)"
   ]
  },
  {
   "cell_type": "code",
   "execution_count": 200,
   "metadata": {},
   "outputs": [
    {
     "data": {
      "text/plain": [
       "{'criterion': 'entropy',\n",
       " 'max_depth': 10,\n",
       " 'max_features': 'sqrt',\n",
       " 'max_leaf_nodes': 2,\n",
       " 'min_samples_leaf': 1,\n",
       " 'min_samples_split': 2,\n",
       " 'n_estimators': 10}"
      ]
     },
     "execution_count": 200,
     "metadata": {},
     "output_type": "execute_result"
    }
   ],
   "source": [
    "random_f_grid_model.best_params_"
   ]
  },
  {
   "cell_type": "markdown",
   "metadata": {},
   "source": [
    "#### Build the model using tuned hyperparameters:"
   ]
  },
  {
   "cell_type": "code",
   "execution_count": 202,
   "metadata": {},
   "outputs": [],
   "source": [
    "final_RF = RandomForestClassifier(criterion='entropy',\n",
    "                                 n_estimators=10,\n",
    "                                 max_depth=10,\n",
    "                                 max_features='sqrt',\n",
    "                                 max_leaf_nodes=2,\n",
    "                                 min_samples_leaf=1,\n",
    "                                 min_samples_split=2,\n",
    "                                 random_state=10)\n",
    "\n",
    "final_RF_model = final_RF.fit(X_train,y_train)"
   ]
  },
  {
   "cell_type": "code",
   "execution_count": 203,
   "metadata": {},
   "outputs": [
    {
     "name": "stdout",
     "output_type": "stream",
     "text": [
      "train-report: \n",
      "               precision    recall  f1-score   support\n",
      "\n",
      "           0       0.90      0.92      0.91       178\n",
      "           1       0.90      0.87      0.88       142\n",
      "\n",
      "    accuracy                           0.90       320\n",
      "   macro avg       0.90      0.89      0.90       320\n",
      "weighted avg       0.90      0.90      0.90       320\n",
      "\n",
      "test-report: \n",
      "               precision    recall  f1-score   support\n",
      "\n",
      "           0       0.92      0.86      0.89        42\n",
      "           1       0.85      0.92      0.89        38\n",
      "\n",
      "    accuracy                           0.89        80\n",
      "   macro avg       0.89      0.89      0.89        80\n",
      "weighted avg       0.89      0.89      0.89        80\n",
      "\n"
     ]
    }
   ],
   "source": [
    "## calculating the performance measures:\n",
    "y_train_pred = final_RF_model.predict(X_train)\n",
    "y_test_pred = final_RF_model.predict(X_test)\n",
    "\n",
    "print('train-report:','\\n',classification_report(y_train, y_train_pred))\n",
    "print('test-report:','\\n',classification_report(y_test, y_test_pred))"
   ]
  },
  {
   "cell_type": "markdown",
   "metadata": {},
   "source": [
    "##### Interpretation: The accuracy of the test data increased from 0.84 to 0.89 after tuning the hyperparameters. Also, the sensitivity and specificity of the model is balanced."
   ]
  },
  {
   "cell_type": "code",
   "execution_count": null,
   "metadata": {},
   "outputs": [],
   "source": [
    "\n",
    "\n",
    "\n"
   ]
  },
  {
   "cell_type": "markdown",
   "metadata": {},
   "source": [
    "# Identify the Importatnt features.\n",
    "- The method `feature_importances_` returns the value corresponding to each feature.\n",
    "- which is **defined as the ratio of total decrease in `Gini impurity` across every tree in the forest where the feature is used to the total count of trees in the forest.** This is also caled as, `Gini Importance`."
   ]
  },
  {
   "cell_type": "code",
   "execution_count": 206,
   "metadata": {},
   "outputs": [
    {
     "data": {
      "text/html": [
       "<div>\n",
       "<style scoped>\n",
       "    .dataframe tbody tr th:only-of-type {\n",
       "        vertical-align: middle;\n",
       "    }\n",
       "\n",
       "    .dataframe tbody tr th {\n",
       "        vertical-align: top;\n",
       "    }\n",
       "\n",
       "    .dataframe thead th {\n",
       "        text-align: right;\n",
       "    }\n",
       "</style>\n",
       "<table border=\"1\" class=\"dataframe\">\n",
       "  <thead>\n",
       "    <tr style=\"text-align: right;\">\n",
       "      <th></th>\n",
       "      <th>features</th>\n",
       "      <th>Importance</th>\n",
       "    </tr>\n",
       "  </thead>\n",
       "  <tbody>\n",
       "    <tr>\n",
       "      <th>0</th>\n",
       "      <td>CGPA</td>\n",
       "      <td>0.3</td>\n",
       "    </tr>\n",
       "    <tr>\n",
       "      <th>1</th>\n",
       "      <td>TOEFL Score</td>\n",
       "      <td>0.2</td>\n",
       "    </tr>\n",
       "    <tr>\n",
       "      <th>2</th>\n",
       "      <td>Research_1</td>\n",
       "      <td>0.2</td>\n",
       "    </tr>\n",
       "    <tr>\n",
       "      <th>3</th>\n",
       "      <td>GRE Score</td>\n",
       "      <td>0.1</td>\n",
       "    </tr>\n",
       "    <tr>\n",
       "      <th>4</th>\n",
       "      <td>SOP</td>\n",
       "      <td>0.1</td>\n",
       "    </tr>\n",
       "    <tr>\n",
       "      <th>5</th>\n",
       "      <td>LOR</td>\n",
       "      <td>0.1</td>\n",
       "    </tr>\n",
       "    <tr>\n",
       "      <th>6</th>\n",
       "      <td>const</td>\n",
       "      <td>0.0</td>\n",
       "    </tr>\n",
       "    <tr>\n",
       "      <th>7</th>\n",
       "      <td>University Rating</td>\n",
       "      <td>0.0</td>\n",
       "    </tr>\n",
       "  </tbody>\n",
       "</table>\n",
       "</div>"
      ],
      "text/plain": [
       "            features  Importance\n",
       "0               CGPA         0.3\n",
       "1        TOEFL Score         0.2\n",
       "2         Research_1         0.2\n",
       "3          GRE Score         0.1\n",
       "4                SOP         0.1\n",
       "5                LOR         0.1\n",
       "6              const         0.0\n",
       "7  University Rating         0.0"
      ]
     },
     "execution_count": 206,
     "metadata": {},
     "output_type": "execute_result"
    }
   ],
   "source": [
    "important_features = pd.DataFrame({'features':X_train.columns,\n",
    "                                  'Importance':final_RF_model.feature_importances_})\n",
    "\n",
    "important_features = important_features.sort_values('Importance',ascending=False).reset_index(drop=True)\n",
    "important_features"
   ]
  },
  {
   "cell_type": "code",
   "execution_count": 207,
   "metadata": {},
   "outputs": [
    {
     "data": {
      "text/plain": [
       "<AxesSubplot:xlabel='Importance', ylabel='features'>"
      ]
     },
     "execution_count": 207,
     "metadata": {},
     "output_type": "execute_result"
    },
    {
     "data": {
      "image/png": "[encoded data removed]",
      "text/plain": [
       "<Figure size 432x288 with 1 Axes>"
      ]
     },
     "metadata": {
      "needs_background": "light"
     },
     "output_type": "display_data"
    }
   ],
   "source": [
    "sns.barplot(x='Importance',y='features',data=important_features)"
   ]
  },
  {
   "cell_type": "markdown",
   "metadata": {},
   "source": [
    "## For above day2 concepts, Decision tree and random forest i have used X_train and X_test where for X i added added a constant (which i used for logistic reg), dont use that constant added data for X_train and test in Day2 concepts******************************************************************************************************************************"
   ]
  }
 ],
 "metadata": {
  "kernelspec": {
   "display_name": "Python 3",
   "language": "python",
   "name": "python3"
  },
  "language_info": {
   "codemirror_mode": {
    "name": "ipython",
    "version": 3
   },
   "file_extension": ".py",
   "mimetype": "text/x-python",
   "name": "python",
   "nbconvert_exporter": "python",
   "pygments_lexer": "ipython3",
   "version": "3.8.5"
  }
 },
 "nbformat": 4,
 "nbformat_minor": 4
}
