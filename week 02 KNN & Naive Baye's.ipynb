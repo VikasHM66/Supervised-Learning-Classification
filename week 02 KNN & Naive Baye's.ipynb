{
 "cells": [
  {
   "cell_type": "code",
   "execution_count": 249,
   "metadata": {},
   "outputs": [],
   "source": [
    "import pandas as pd \n",
    "import numpy as np\n",
    "import matplotlib.pyplot as plt\n",
    "from matplotlib.colors import ListedColormap\n",
    "import seaborn as sns\n",
    "from warnings import filterwarnings\n",
    "filterwarnings('ignore')\n",
    "\n",
    "pd.options.display.max_columns = None\n",
    "pd.options.display.max_rows = None\n",
    " \n",
    "pd.options.display.float_format = '{:.6f}'.format\n",
    "\n",
    "\n",
    "from sklearn.model_selection import train_test_split\n",
    "from sklearn.preprocessing import StandardScaler \n",
    "from sklearn.preprocessing import MinMaxScaler\n",
    "\n",
    "from sklearn import metrics\n",
    "from sklearn.metrics import classification_report\n",
    "from sklearn.metrics import confusion_matrix\n",
    "from sklearn.metrics import roc_curve\n",
    "from sklearn.metrics import roc_auc_score\n",
    "from sklearn.neighbors import KNeighborsClassifier\n",
    "from sklearn.naive_bayes import GaussianNB\n",
    "from sklearn.model_selection import GridSearchCV\n",
    "from sklearn.model_selection import cross_val_score "
   ]
  },
  {
   "cell_type": "code",
   "execution_count": 250,
   "metadata": {},
   "outputs": [],
   "source": [
    "plt.rcParams['figure.figsize'] = [10,5]"
   ]
  },
  {
   "cell_type": "markdown",
   "metadata": {},
   "source": [
    "## Data preparation."
   ]
  },
  {
   "cell_type": "code",
   "execution_count": 251,
   "metadata": {},
   "outputs": [
    {
     "data": {
      "text/html": [
       "<div>\n",
       "<style scoped>\n",
       "    .dataframe tbody tr th:only-of-type {\n",
       "        vertical-align: middle;\n",
       "    }\n",
       "\n",
       "    .dataframe tbody tr th {\n",
       "        vertical-align: top;\n",
       "    }\n",
       "\n",
       "    .dataframe thead th {\n",
       "        text-align: right;\n",
       "    }\n",
       "</style>\n",
       "<table border=\"1\" class=\"dataframe\">\n",
       "  <thead>\n",
       "    <tr style=\"text-align: right;\">\n",
       "      <th></th>\n",
       "      <th>diagnosis</th>\n",
       "      <th>radius_mean</th>\n",
       "      <th>texture_mean</th>\n",
       "      <th>perimeter_mean</th>\n",
       "      <th>area_mean</th>\n",
       "      <th>smoothness_mean</th>\n",
       "      <th>compactness_mean</th>\n",
       "      <th>concavity_mean</th>\n",
       "      <th>concave points_mean</th>\n",
       "      <th>symmetry_mean</th>\n",
       "      <th>fractal_dimension_mean</th>\n",
       "      <th>radius_se</th>\n",
       "      <th>texture_se</th>\n",
       "      <th>perimeter_se</th>\n",
       "      <th>area_se</th>\n",
       "      <th>smoothness_se</th>\n",
       "      <th>compactness_se</th>\n",
       "      <th>concavity_se</th>\n",
       "      <th>concave points_se</th>\n",
       "      <th>symmetry_se</th>\n",
       "      <th>fractal_dimension_se</th>\n",
       "      <th>radius_worst</th>\n",
       "      <th>texture_worst</th>\n",
       "      <th>perimeter_worst</th>\n",
       "      <th>area_worst</th>\n",
       "      <th>smoothness_worst</th>\n",
       "      <th>compactness_worst</th>\n",
       "      <th>concavity_worst</th>\n",
       "      <th>concave points_worst</th>\n",
       "      <th>symmetry_worst</th>\n",
       "      <th>fractal_dimension_worst</th>\n",
       "    </tr>\n",
       "  </thead>\n",
       "  <tbody>\n",
       "    <tr>\n",
       "      <th>0</th>\n",
       "      <td>M</td>\n",
       "      <td>17.990000</td>\n",
       "      <td>10.380000</td>\n",
       "      <td>122.800000</td>\n",
       "      <td>1001.000000</td>\n",
       "      <td>0.118400</td>\n",
       "      <td>0.277600</td>\n",
       "      <td>0.300100</td>\n",
       "      <td>0.147100</td>\n",
       "      <td>0.241900</td>\n",
       "      <td>0.078710</td>\n",
       "      <td>1.095000</td>\n",
       "      <td>0.905300</td>\n",
       "      <td>8.589000</td>\n",
       "      <td>153.400000</td>\n",
       "      <td>0.006399</td>\n",
       "      <td>0.049040</td>\n",
       "      <td>0.053730</td>\n",
       "      <td>0.015870</td>\n",
       "      <td>0.030030</td>\n",
       "      <td>0.006193</td>\n",
       "      <td>25.380000</td>\n",
       "      <td>17.330000</td>\n",
       "      <td>184.600000</td>\n",
       "      <td>2019.000000</td>\n",
       "      <td>0.162200</td>\n",
       "      <td>0.665600</td>\n",
       "      <td>0.711900</td>\n",
       "      <td>0.265400</td>\n",
       "      <td>0.460100</td>\n",
       "      <td>0.118900</td>\n",
       "    </tr>\n",
       "    <tr>\n",
       "      <th>1</th>\n",
       "      <td>M</td>\n",
       "      <td>20.570000</td>\n",
       "      <td>17.770000</td>\n",
       "      <td>132.900000</td>\n",
       "      <td>1326.000000</td>\n",
       "      <td>0.084740</td>\n",
       "      <td>0.078640</td>\n",
       "      <td>0.086900</td>\n",
       "      <td>0.070170</td>\n",
       "      <td>0.181200</td>\n",
       "      <td>0.056670</td>\n",
       "      <td>0.543500</td>\n",
       "      <td>0.733900</td>\n",
       "      <td>3.398000</td>\n",
       "      <td>74.080000</td>\n",
       "      <td>0.005225</td>\n",
       "      <td>0.013080</td>\n",
       "      <td>0.018600</td>\n",
       "      <td>0.013400</td>\n",
       "      <td>0.013890</td>\n",
       "      <td>0.003532</td>\n",
       "      <td>24.990000</td>\n",
       "      <td>23.410000</td>\n",
       "      <td>158.800000</td>\n",
       "      <td>1956.000000</td>\n",
       "      <td>0.123800</td>\n",
       "      <td>0.186600</td>\n",
       "      <td>0.241600</td>\n",
       "      <td>0.186000</td>\n",
       "      <td>0.275000</td>\n",
       "      <td>0.089020</td>\n",
       "    </tr>\n",
       "    <tr>\n",
       "      <th>2</th>\n",
       "      <td>M</td>\n",
       "      <td>19.690000</td>\n",
       "      <td>21.250000</td>\n",
       "      <td>130.000000</td>\n",
       "      <td>1203.000000</td>\n",
       "      <td>0.109600</td>\n",
       "      <td>0.159900</td>\n",
       "      <td>0.197400</td>\n",
       "      <td>0.127900</td>\n",
       "      <td>0.206900</td>\n",
       "      <td>0.059990</td>\n",
       "      <td>0.745600</td>\n",
       "      <td>0.786900</td>\n",
       "      <td>4.585000</td>\n",
       "      <td>94.030000</td>\n",
       "      <td>0.006150</td>\n",
       "      <td>0.040060</td>\n",
       "      <td>0.038320</td>\n",
       "      <td>0.020580</td>\n",
       "      <td>0.022500</td>\n",
       "      <td>0.004571</td>\n",
       "      <td>23.570000</td>\n",
       "      <td>25.530000</td>\n",
       "      <td>152.500000</td>\n",
       "      <td>1709.000000</td>\n",
       "      <td>0.144400</td>\n",
       "      <td>0.424500</td>\n",
       "      <td>0.450400</td>\n",
       "      <td>0.243000</td>\n",
       "      <td>0.361300</td>\n",
       "      <td>0.087580</td>\n",
       "    </tr>\n",
       "    <tr>\n",
       "      <th>3</th>\n",
       "      <td>M</td>\n",
       "      <td>11.420000</td>\n",
       "      <td>20.380000</td>\n",
       "      <td>77.580000</td>\n",
       "      <td>386.100000</td>\n",
       "      <td>0.142500</td>\n",
       "      <td>0.283900</td>\n",
       "      <td>0.241400</td>\n",
       "      <td>0.105200</td>\n",
       "      <td>0.259700</td>\n",
       "      <td>0.097440</td>\n",
       "      <td>0.495600</td>\n",
       "      <td>1.156000</td>\n",
       "      <td>3.445000</td>\n",
       "      <td>27.230000</td>\n",
       "      <td>0.009110</td>\n",
       "      <td>0.074580</td>\n",
       "      <td>0.056610</td>\n",
       "      <td>0.018670</td>\n",
       "      <td>0.059630</td>\n",
       "      <td>0.009208</td>\n",
       "      <td>14.910000</td>\n",
       "      <td>26.500000</td>\n",
       "      <td>98.870000</td>\n",
       "      <td>567.700000</td>\n",
       "      <td>0.209800</td>\n",
       "      <td>0.866300</td>\n",
       "      <td>0.686900</td>\n",
       "      <td>0.257500</td>\n",
       "      <td>0.663800</td>\n",
       "      <td>0.173000</td>\n",
       "    </tr>\n",
       "    <tr>\n",
       "      <th>4</th>\n",
       "      <td>M</td>\n",
       "      <td>20.290000</td>\n",
       "      <td>14.340000</td>\n",
       "      <td>135.100000</td>\n",
       "      <td>1297.000000</td>\n",
       "      <td>0.100300</td>\n",
       "      <td>0.132800</td>\n",
       "      <td>0.198000</td>\n",
       "      <td>0.104300</td>\n",
       "      <td>0.180900</td>\n",
       "      <td>0.058830</td>\n",
       "      <td>0.757200</td>\n",
       "      <td>0.781300</td>\n",
       "      <td>5.438000</td>\n",
       "      <td>94.440000</td>\n",
       "      <td>0.011490</td>\n",
       "      <td>0.024610</td>\n",
       "      <td>0.056880</td>\n",
       "      <td>0.018850</td>\n",
       "      <td>0.017560</td>\n",
       "      <td>0.005115</td>\n",
       "      <td>22.540000</td>\n",
       "      <td>16.670000</td>\n",
       "      <td>152.200000</td>\n",
       "      <td>1575.000000</td>\n",
       "      <td>0.137400</td>\n",
       "      <td>0.205000</td>\n",
       "      <td>0.400000</td>\n",
       "      <td>0.162500</td>\n",
       "      <td>0.236400</td>\n",
       "      <td>0.076780</td>\n",
       "    </tr>\n",
       "  </tbody>\n",
       "</table>\n",
       "</div>"
      ],
      "text/plain": [
       "  diagnosis  radius_mean  texture_mean  perimeter_mean   area_mean  \\\n",
       "0         M    17.990000     10.380000      122.800000 1001.000000   \n",
       "1         M    20.570000     17.770000      132.900000 1326.000000   \n",
       "2         M    19.690000     21.250000      130.000000 1203.000000   \n",
       "3         M    11.420000     20.380000       77.580000  386.100000   \n",
       "4         M    20.290000     14.340000      135.100000 1297.000000   \n",
       "\n",
       "   smoothness_mean  compactness_mean  concavity_mean  concave points_mean  \\\n",
       "0         0.118400          0.277600        0.300100             0.147100   \n",
       "1         0.084740          0.078640        0.086900             0.070170   \n",
       "2         0.109600          0.159900        0.197400             0.127900   \n",
       "3         0.142500          0.283900        0.241400             0.105200   \n",
       "4         0.100300          0.132800        0.198000             0.104300   \n",
       "\n",
       "   symmetry_mean  fractal_dimension_mean  radius_se  texture_se  perimeter_se  \\\n",
       "0       0.241900                0.078710   1.095000    0.905300      8.589000   \n",
       "1       0.181200                0.056670   0.543500    0.733900      3.398000   \n",
       "2       0.206900                0.059990   0.745600    0.786900      4.585000   \n",
       "3       0.259700                0.097440   0.495600    1.156000      3.445000   \n",
       "4       0.180900                0.058830   0.757200    0.781300      5.438000   \n",
       "\n",
       "     area_se  smoothness_se  compactness_se  concavity_se  concave points_se  \\\n",
       "0 153.400000       0.006399        0.049040      0.053730           0.015870   \n",
       "1  74.080000       0.005225        0.013080      0.018600           0.013400   \n",
       "2  94.030000       0.006150        0.040060      0.038320           0.020580   \n",
       "3  27.230000       0.009110        0.074580      0.056610           0.018670   \n",
       "4  94.440000       0.011490        0.024610      0.056880           0.018850   \n",
       "\n",
       "   symmetry_se  fractal_dimension_se  radius_worst  texture_worst  \\\n",
       "0     0.030030              0.006193     25.380000      17.330000   \n",
       "1     0.013890              0.003532     24.990000      23.410000   \n",
       "2     0.022500              0.004571     23.570000      25.530000   \n",
       "3     0.059630              0.009208     14.910000      26.500000   \n",
       "4     0.017560              0.005115     22.540000      16.670000   \n",
       "\n",
       "   perimeter_worst  area_worst  smoothness_worst  compactness_worst  \\\n",
       "0       184.600000 2019.000000          0.162200           0.665600   \n",
       "1       158.800000 1956.000000          0.123800           0.186600   \n",
       "2       152.500000 1709.000000          0.144400           0.424500   \n",
       "3        98.870000  567.700000          0.209800           0.866300   \n",
       "4       152.200000 1575.000000          0.137400           0.205000   \n",
       "\n",
       "   concavity_worst  concave points_worst  symmetry_worst  \\\n",
       "0         0.711900              0.265400        0.460100   \n",
       "1         0.241600              0.186000        0.275000   \n",
       "2         0.450400              0.243000        0.361300   \n",
       "3         0.686900              0.257500        0.663800   \n",
       "4         0.400000              0.162500        0.236400   \n",
       "\n",
       "   fractal_dimension_worst  \n",
       "0                 0.118900  \n",
       "1                 0.089020  \n",
       "2                 0.087580  \n",
       "3                 0.173000  \n",
       "4                 0.076780  "
      ]
     },
     "execution_count": 251,
     "metadata": {},
     "output_type": "execute_result"
    }
   ],
   "source": [
    "df = pd.read_csv('bcancer.csv')\n",
    "df.head()"
   ]
  },
  {
   "cell_type": "code",
   "execution_count": 252,
   "metadata": {},
   "outputs": [
    {
     "data": {
      "text/plain": [
       "(569, 31)"
      ]
     },
     "execution_count": 252,
     "metadata": {},
     "output_type": "execute_result"
    }
   ],
   "source": [
    "df.shape"
   ]
  },
  {
   "cell_type": "code",
   "execution_count": 253,
   "metadata": {},
   "outputs": [
    {
     "name": "stdout",
     "output_type": "stream",
     "text": [
      "<class 'pandas.core.frame.DataFrame'>\n",
      "RangeIndex: 569 entries, 0 to 568\n",
      "Data columns (total 31 columns):\n",
      " #   Column                   Non-Null Count  Dtype  \n",
      "---  ------                   --------------  -----  \n",
      " 0   diagnosis                569 non-null    object \n",
      " 1   radius_mean              569 non-null    float64\n",
      " 2   texture_mean             569 non-null    float64\n",
      " 3   perimeter_mean           569 non-null    float64\n",
      " 4   area_mean                569 non-null    float64\n",
      " 5   smoothness_mean          569 non-null    float64\n",
      " 6   compactness_mean         569 non-null    float64\n",
      " 7   concavity_mean           569 non-null    float64\n",
      " 8   concave points_mean      569 non-null    float64\n",
      " 9   symmetry_mean            569 non-null    float64\n",
      " 10  fractal_dimension_mean   569 non-null    float64\n",
      " 11  radius_se                569 non-null    float64\n",
      " 12  texture_se               569 non-null    float64\n",
      " 13  perimeter_se             569 non-null    float64\n",
      " 14  area_se                  569 non-null    float64\n",
      " 15  smoothness_se            569 non-null    float64\n",
      " 16  compactness_se           569 non-null    float64\n",
      " 17  concavity_se             569 non-null    float64\n",
      " 18  concave points_se        569 non-null    float64\n",
      " 19  symmetry_se              569 non-null    float64\n",
      " 20  fractal_dimension_se     569 non-null    float64\n",
      " 21  radius_worst             569 non-null    float64\n",
      " 22  texture_worst            569 non-null    float64\n",
      " 23  perimeter_worst          569 non-null    float64\n",
      " 24  area_worst               569 non-null    float64\n",
      " 25  smoothness_worst         569 non-null    float64\n",
      " 26  compactness_worst        569 non-null    float64\n",
      " 27  concavity_worst          569 non-null    float64\n",
      " 28  concave points_worst     569 non-null    float64\n",
      " 29  symmetry_worst           569 non-null    float64\n",
      " 30  fractal_dimension_worst  569 non-null    float64\n",
      "dtypes: float64(30), object(1)\n",
      "memory usage: 137.9+ KB\n"
     ]
    }
   ],
   "source": [
    "df.info()"
   ]
  },
  {
   "cell_type": "code",
   "execution_count": 254,
   "metadata": {},
   "outputs": [
    {
     "data": {
      "text/plain": [
       "<Figure size 1080x504 with 0 Axes>"
      ]
     },
     "metadata": {},
     "output_type": "display_data"
    },
    {
     "data": {
      "image/png": "[encoded data removed]",
      "text/plain": [
       "<Figure size 720x360 with 30 Axes>"
      ]
     },
     "metadata": {
      "needs_background": "light"
     },
     "output_type": "display_data"
    }
   ],
   "source": [
    "plt.figure(figsize=[15,7])\n",
    "df.drop('diagnosis',axis=1).hist()\n",
    "plt.tight_layout()\n",
    "plt.show()"
   ]
  },
  {
   "cell_type": "code",
   "execution_count": 255,
   "metadata": {},
   "outputs": [
    {
     "data": {
      "text/plain": [
       "B   62.741652\n",
       "M   37.258348\n",
       "Name: diagnosis, dtype: float64"
      ]
     },
     "execution_count": 255,
     "metadata": {},
     "output_type": "execute_result"
    }
   ],
   "source": [
    "## distribution of the dependent variables:\n",
    "df['diagnosis'].value_counts(normalize=True)*100"
   ]
  },
  {
   "cell_type": "code",
   "execution_count": 256,
   "metadata": {},
   "outputs": [
    {
     "data": {
      "text/plain": [
       "Text(1, 358, '62.74%')"
      ]
     },
     "execution_count": 256,
     "metadata": {},
     "output_type": "execute_result"
    },
    {
     "data": {
      "image/png": "[encoded data removed]",
      "text/plain": [
       "<Figure size 720x360 with 1 Axes>"
      ]
     },
     "metadata": {
      "needs_background": "light"
     },
     "output_type": "display_data"
    }
   ],
   "source": [
    "sns.countplot(df['diagnosis'])\n",
    "\n",
    "plt.text(x=-0.05, y=213, s='37.25%')\n",
    "plt.text(x=1, y=358, s='62.74%')"
   ]
  },
  {
   "cell_type": "code",
   "execution_count": 257,
   "metadata": {},
   "outputs": [
    {
     "data": {
      "text/plain": [
       "diagnosis                  0\n",
       "radius_mean                0\n",
       "texture_mean               0\n",
       "perimeter_mean             0\n",
       "area_mean                  0\n",
       "smoothness_mean            0\n",
       "compactness_mean           0\n",
       "concavity_mean             0\n",
       "concave points_mean        0\n",
       "symmetry_mean              0\n",
       "fractal_dimension_mean     0\n",
       "radius_se                  0\n",
       "texture_se                 0\n",
       "perimeter_se               0\n",
       "area_se                    0\n",
       "smoothness_se              0\n",
       "compactness_se             0\n",
       "concavity_se               0\n",
       "concave points_se          0\n",
       "symmetry_se                0\n",
       "fractal_dimension_se       0\n",
       "radius_worst               0\n",
       "texture_worst              0\n",
       "perimeter_worst            0\n",
       "area_worst                 0\n",
       "smoothness_worst           0\n",
       "compactness_worst          0\n",
       "concavity_worst            0\n",
       "concave points_worst       0\n",
       "symmetry_worst             0\n",
       "fractal_dimension_worst    0\n",
       "dtype: int64"
      ]
     },
     "execution_count": 257,
     "metadata": {},
     "output_type": "execute_result"
    }
   ],
   "source": [
    "## missing value treatmnet:\n",
    "df.isnull().sum()"
   ]
  },
  {
   "cell_type": "code",
   "execution_count": 258,
   "metadata": {},
   "outputs": [
    {
     "data": {
      "text/plain": [
       "0    M\n",
       "1    M\n",
       "Name: diagnosis, dtype: object"
      ]
     },
     "execution_count": 258,
     "metadata": {},
     "output_type": "execute_result"
    }
   ],
   "source": [
    "df_target = df['diagnosis']\n",
    "df_target.head(2)"
   ]
  },
  {
   "cell_type": "code",
   "execution_count": 259,
   "metadata": {},
   "outputs": [
    {
     "data": {
      "text/html": [
       "<div>\n",
       "<style scoped>\n",
       "    .dataframe tbody tr th:only-of-type {\n",
       "        vertical-align: middle;\n",
       "    }\n",
       "\n",
       "    .dataframe tbody tr th {\n",
       "        vertical-align: top;\n",
       "    }\n",
       "\n",
       "    .dataframe thead th {\n",
       "        text-align: right;\n",
       "    }\n",
       "</style>\n",
       "<table border=\"1\" class=\"dataframe\">\n",
       "  <thead>\n",
       "    <tr style=\"text-align: right;\">\n",
       "      <th></th>\n",
       "      <th>radius_mean</th>\n",
       "      <th>texture_mean</th>\n",
       "      <th>perimeter_mean</th>\n",
       "      <th>area_mean</th>\n",
       "      <th>smoothness_mean</th>\n",
       "      <th>compactness_mean</th>\n",
       "      <th>concavity_mean</th>\n",
       "      <th>concave points_mean</th>\n",
       "      <th>symmetry_mean</th>\n",
       "      <th>fractal_dimension_mean</th>\n",
       "      <th>radius_se</th>\n",
       "      <th>texture_se</th>\n",
       "      <th>perimeter_se</th>\n",
       "      <th>area_se</th>\n",
       "      <th>smoothness_se</th>\n",
       "      <th>compactness_se</th>\n",
       "      <th>concavity_se</th>\n",
       "      <th>concave points_se</th>\n",
       "      <th>symmetry_se</th>\n",
       "      <th>fractal_dimension_se</th>\n",
       "      <th>radius_worst</th>\n",
       "      <th>texture_worst</th>\n",
       "      <th>perimeter_worst</th>\n",
       "      <th>area_worst</th>\n",
       "      <th>smoothness_worst</th>\n",
       "      <th>compactness_worst</th>\n",
       "      <th>concavity_worst</th>\n",
       "      <th>concave points_worst</th>\n",
       "      <th>symmetry_worst</th>\n",
       "      <th>fractal_dimension_worst</th>\n",
       "    </tr>\n",
       "  </thead>\n",
       "  <tbody>\n",
       "    <tr>\n",
       "      <th>0</th>\n",
       "      <td>17.990000</td>\n",
       "      <td>10.380000</td>\n",
       "      <td>122.800000</td>\n",
       "      <td>1001.000000</td>\n",
       "      <td>0.118400</td>\n",
       "      <td>0.277600</td>\n",
       "      <td>0.300100</td>\n",
       "      <td>0.147100</td>\n",
       "      <td>0.241900</td>\n",
       "      <td>0.078710</td>\n",
       "      <td>1.095000</td>\n",
       "      <td>0.905300</td>\n",
       "      <td>8.589000</td>\n",
       "      <td>153.400000</td>\n",
       "      <td>0.006399</td>\n",
       "      <td>0.049040</td>\n",
       "      <td>0.053730</td>\n",
       "      <td>0.015870</td>\n",
       "      <td>0.030030</td>\n",
       "      <td>0.006193</td>\n",
       "      <td>25.380000</td>\n",
       "      <td>17.330000</td>\n",
       "      <td>184.600000</td>\n",
       "      <td>2019.000000</td>\n",
       "      <td>0.162200</td>\n",
       "      <td>0.665600</td>\n",
       "      <td>0.711900</td>\n",
       "      <td>0.265400</td>\n",
       "      <td>0.460100</td>\n",
       "      <td>0.118900</td>\n",
       "    </tr>\n",
       "    <tr>\n",
       "      <th>1</th>\n",
       "      <td>20.570000</td>\n",
       "      <td>17.770000</td>\n",
       "      <td>132.900000</td>\n",
       "      <td>1326.000000</td>\n",
       "      <td>0.084740</td>\n",
       "      <td>0.078640</td>\n",
       "      <td>0.086900</td>\n",
       "      <td>0.070170</td>\n",
       "      <td>0.181200</td>\n",
       "      <td>0.056670</td>\n",
       "      <td>0.543500</td>\n",
       "      <td>0.733900</td>\n",
       "      <td>3.398000</td>\n",
       "      <td>74.080000</td>\n",
       "      <td>0.005225</td>\n",
       "      <td>0.013080</td>\n",
       "      <td>0.018600</td>\n",
       "      <td>0.013400</td>\n",
       "      <td>0.013890</td>\n",
       "      <td>0.003532</td>\n",
       "      <td>24.990000</td>\n",
       "      <td>23.410000</td>\n",
       "      <td>158.800000</td>\n",
       "      <td>1956.000000</td>\n",
       "      <td>0.123800</td>\n",
       "      <td>0.186600</td>\n",
       "      <td>0.241600</td>\n",
       "      <td>0.186000</td>\n",
       "      <td>0.275000</td>\n",
       "      <td>0.089020</td>\n",
       "    </tr>\n",
       "  </tbody>\n",
       "</table>\n",
       "</div>"
      ],
      "text/plain": [
       "   radius_mean  texture_mean  perimeter_mean   area_mean  smoothness_mean  \\\n",
       "0    17.990000     10.380000      122.800000 1001.000000         0.118400   \n",
       "1    20.570000     17.770000      132.900000 1326.000000         0.084740   \n",
       "\n",
       "   compactness_mean  concavity_mean  concave points_mean  symmetry_mean  \\\n",
       "0          0.277600        0.300100             0.147100       0.241900   \n",
       "1          0.078640        0.086900             0.070170       0.181200   \n",
       "\n",
       "   fractal_dimension_mean  radius_se  texture_se  perimeter_se    area_se  \\\n",
       "0                0.078710   1.095000    0.905300      8.589000 153.400000   \n",
       "1                0.056670   0.543500    0.733900      3.398000  74.080000   \n",
       "\n",
       "   smoothness_se  compactness_se  concavity_se  concave points_se  \\\n",
       "0       0.006399        0.049040      0.053730           0.015870   \n",
       "1       0.005225        0.013080      0.018600           0.013400   \n",
       "\n",
       "   symmetry_se  fractal_dimension_se  radius_worst  texture_worst  \\\n",
       "0     0.030030              0.006193     25.380000      17.330000   \n",
       "1     0.013890              0.003532     24.990000      23.410000   \n",
       "\n",
       "   perimeter_worst  area_worst  smoothness_worst  compactness_worst  \\\n",
       "0       184.600000 2019.000000          0.162200           0.665600   \n",
       "1       158.800000 1956.000000          0.123800           0.186600   \n",
       "\n",
       "   concavity_worst  concave points_worst  symmetry_worst  \\\n",
       "0         0.711900              0.265400        0.460100   \n",
       "1         0.241600              0.186000        0.275000   \n",
       "\n",
       "   fractal_dimension_worst  \n",
       "0                 0.118900  \n",
       "1                 0.089020  "
      ]
     },
     "execution_count": 259,
     "metadata": {},
     "output_type": "execute_result"
    }
   ],
   "source": [
    "df_feature = df.drop('diagnosis',axis=1)\n",
    "df_feature.head(2)"
   ]
  },
  {
   "cell_type": "code",
   "execution_count": 260,
   "metadata": {},
   "outputs": [],
   "source": [
    "## # if the value in the target variable is 'B' then replace it with 0 else with 1\n",
    "# i.e. set 0 for benign (negative class)\n",
    "\n",
    "for i in range(len(df_target)):\n",
    "    if df_target[i]=='B':\n",
    "        df_target[i]=0\n",
    "    else:\n",
    "        df_target[i]=1"
   ]
  },
  {
   "cell_type": "code",
   "execution_count": 261,
   "metadata": {},
   "outputs": [],
   "source": [
    "# change the datatype of the target variable to integer\n",
    "df_target = df_target.astype('int')"
   ]
  },
  {
   "cell_type": "code",
   "execution_count": null,
   "metadata": {},
   "outputs": [],
   "source": [
    "\n",
    "\n",
    "\n"
   ]
  },
  {
   "cell_type": "markdown",
   "metadata": {},
   "source": [
    "### Defining function for plotting confusion matrix:"
   ]
  },
  {
   "cell_type": "code",
   "execution_count": 262,
   "metadata": {},
   "outputs": [],
   "source": [
    "def plot_confusion_matrix(model,test_data):\n",
    "    y_pred = model.predict(test_data)\n",
    "    cm = confusion_matrix(y_test,y_pred)\n",
    "    c_mat = pd.DataFrame(cm, index=['actual:0','actual:1'],columns=['Pred:0','Pred:1'])\n",
    "    sns.heatmap(c_mat, annot=True, fmt='d', cmap=ListedColormap(['lightgreen']),\n",
    "                cbar=False, linewidths=0.1, annot_kws={'size':25})"
   ]
  },
  {
   "cell_type": "markdown",
   "metadata": {},
   "source": [
    "### Defining Function for plotting roc-curve:"
   ]
  },
  {
   "cell_type": "code",
   "execution_count": 263,
   "metadata": {},
   "outputs": [],
   "source": [
    "def plot_roc_curve(model,test_data):\n",
    "    y_pred_prob = model.predict_proba(test_data)[:,1]\n",
    "    fpr,tpr,threshold = roc_curve(y_test,y_pred_prob)\n",
    "    plt.plot(fpr,tpr,'b')\n",
    "    plt.plot([0,1],[0,1],'r--')\n",
    "\n",
    "    plt.xlim([0.0,1.0])\n",
    "    plt.ylim([0.0,1.0])\n",
    "    \n",
    "    plt.grid(True)"
   ]
  },
  {
   "cell_type": "markdown",
   "metadata": {},
   "source": [
    "# K Nearest Neighbors (KNN).\n",
    "- KNN is a classification machine learning algorithm used to identify the class of the observation.\n",
    "- This algorithm search for `K` nearest points to determine the class of an observation.\n",
    "- To identify the nearest points, it considers the distance metrics like `Euclidean`, `Manhattan`, `Chebyshev`, `Hamming`, and so on."
   ]
  },
  {
   "cell_type": "markdown",
   "metadata": {},
   "source": [
    "#### Let us normalize the data \n",
    "- We scale the variables to get all the variables in the same range. \n",
    "- With this, we can avoid a problem in which some features come to dominate solely because they tend to have larger values than others."
   ]
  },
  {
   "cell_type": "code",
   "execution_count": 264,
   "metadata": {},
   "outputs": [
    {
     "data": {
      "text/html": [
       "<div>\n",
       "<style scoped>\n",
       "    .dataframe tbody tr th:only-of-type {\n",
       "        vertical-align: middle;\n",
       "    }\n",
       "\n",
       "    .dataframe tbody tr th {\n",
       "        vertical-align: top;\n",
       "    }\n",
       "\n",
       "    .dataframe thead th {\n",
       "        text-align: right;\n",
       "    }\n",
       "</style>\n",
       "<table border=\"1\" class=\"dataframe\">\n",
       "  <thead>\n",
       "    <tr style=\"text-align: right;\">\n",
       "      <th></th>\n",
       "      <th>radius_mean</th>\n",
       "      <th>texture_mean</th>\n",
       "      <th>perimeter_mean</th>\n",
       "      <th>area_mean</th>\n",
       "      <th>smoothness_mean</th>\n",
       "      <th>compactness_mean</th>\n",
       "      <th>concavity_mean</th>\n",
       "      <th>concave points_mean</th>\n",
       "      <th>symmetry_mean</th>\n",
       "      <th>fractal_dimension_mean</th>\n",
       "      <th>radius_se</th>\n",
       "      <th>texture_se</th>\n",
       "      <th>perimeter_se</th>\n",
       "      <th>area_se</th>\n",
       "      <th>smoothness_se</th>\n",
       "      <th>compactness_se</th>\n",
       "      <th>concavity_se</th>\n",
       "      <th>concave points_se</th>\n",
       "      <th>symmetry_se</th>\n",
       "      <th>fractal_dimension_se</th>\n",
       "      <th>radius_worst</th>\n",
       "      <th>texture_worst</th>\n",
       "      <th>perimeter_worst</th>\n",
       "      <th>area_worst</th>\n",
       "      <th>smoothness_worst</th>\n",
       "      <th>compactness_worst</th>\n",
       "      <th>concavity_worst</th>\n",
       "      <th>concave points_worst</th>\n",
       "      <th>symmetry_worst</th>\n",
       "      <th>fractal_dimension_worst</th>\n",
       "    </tr>\n",
       "  </thead>\n",
       "  <tbody>\n",
       "    <tr>\n",
       "      <th>0</th>\n",
       "      <td>1.097064</td>\n",
       "      <td>-2.073335</td>\n",
       "      <td>1.269934</td>\n",
       "      <td>0.984375</td>\n",
       "      <td>1.568466</td>\n",
       "      <td>3.283515</td>\n",
       "      <td>2.652874</td>\n",
       "      <td>2.532475</td>\n",
       "      <td>2.217515</td>\n",
       "      <td>2.255747</td>\n",
       "      <td>2.489734</td>\n",
       "      <td>-0.565265</td>\n",
       "      <td>2.833031</td>\n",
       "      <td>2.487578</td>\n",
       "      <td>-0.214002</td>\n",
       "      <td>1.316862</td>\n",
       "      <td>0.724026</td>\n",
       "      <td>0.660820</td>\n",
       "      <td>1.148757</td>\n",
       "      <td>0.907083</td>\n",
       "      <td>1.886690</td>\n",
       "      <td>-1.359293</td>\n",
       "      <td>2.303601</td>\n",
       "      <td>2.001237</td>\n",
       "      <td>1.307686</td>\n",
       "      <td>2.616665</td>\n",
       "      <td>2.109526</td>\n",
       "      <td>2.296076</td>\n",
       "      <td>2.750622</td>\n",
       "      <td>1.937015</td>\n",
       "    </tr>\n",
       "    <tr>\n",
       "      <th>1</th>\n",
       "      <td>1.829821</td>\n",
       "      <td>-0.353632</td>\n",
       "      <td>1.685955</td>\n",
       "      <td>1.908708</td>\n",
       "      <td>-0.826962</td>\n",
       "      <td>-0.487072</td>\n",
       "      <td>-0.023846</td>\n",
       "      <td>0.548144</td>\n",
       "      <td>0.001392</td>\n",
       "      <td>-0.868652</td>\n",
       "      <td>0.499255</td>\n",
       "      <td>-0.876244</td>\n",
       "      <td>0.263327</td>\n",
       "      <td>0.742402</td>\n",
       "      <td>-0.605351</td>\n",
       "      <td>-0.692926</td>\n",
       "      <td>-0.440780</td>\n",
       "      <td>0.260162</td>\n",
       "      <td>-0.805450</td>\n",
       "      <td>-0.099444</td>\n",
       "      <td>1.805927</td>\n",
       "      <td>-0.369203</td>\n",
       "      <td>1.535126</td>\n",
       "      <td>1.890489</td>\n",
       "      <td>-0.375612</td>\n",
       "      <td>-0.430444</td>\n",
       "      <td>-0.146749</td>\n",
       "      <td>1.087084</td>\n",
       "      <td>-0.243890</td>\n",
       "      <td>0.281190</td>\n",
       "    </tr>\n",
       "    <tr>\n",
       "      <th>2</th>\n",
       "      <td>1.579888</td>\n",
       "      <td>0.456187</td>\n",
       "      <td>1.566503</td>\n",
       "      <td>1.558884</td>\n",
       "      <td>0.942210</td>\n",
       "      <td>1.052926</td>\n",
       "      <td>1.363478</td>\n",
       "      <td>2.037231</td>\n",
       "      <td>0.939685</td>\n",
       "      <td>-0.398008</td>\n",
       "      <td>1.228676</td>\n",
       "      <td>-0.780083</td>\n",
       "      <td>0.850928</td>\n",
       "      <td>1.181336</td>\n",
       "      <td>-0.297005</td>\n",
       "      <td>0.814974</td>\n",
       "      <td>0.213076</td>\n",
       "      <td>1.424827</td>\n",
       "      <td>0.237036</td>\n",
       "      <td>0.293559</td>\n",
       "      <td>1.511870</td>\n",
       "      <td>-0.023974</td>\n",
       "      <td>1.347475</td>\n",
       "      <td>1.456285</td>\n",
       "      <td>0.527407</td>\n",
       "      <td>1.082932</td>\n",
       "      <td>0.854974</td>\n",
       "      <td>1.955000</td>\n",
       "      <td>1.152255</td>\n",
       "      <td>0.201391</td>\n",
       "    </tr>\n",
       "    <tr>\n",
       "      <th>3</th>\n",
       "      <td>-0.768909</td>\n",
       "      <td>0.253732</td>\n",
       "      <td>-0.592687</td>\n",
       "      <td>-0.764464</td>\n",
       "      <td>3.283553</td>\n",
       "      <td>3.402909</td>\n",
       "      <td>1.915897</td>\n",
       "      <td>1.451707</td>\n",
       "      <td>2.867383</td>\n",
       "      <td>4.910919</td>\n",
       "      <td>0.326373</td>\n",
       "      <td>-0.110409</td>\n",
       "      <td>0.286593</td>\n",
       "      <td>-0.288378</td>\n",
       "      <td>0.689702</td>\n",
       "      <td>2.744280</td>\n",
       "      <td>0.819518</td>\n",
       "      <td>1.115007</td>\n",
       "      <td>4.732680</td>\n",
       "      <td>2.047511</td>\n",
       "      <td>-0.281464</td>\n",
       "      <td>0.133984</td>\n",
       "      <td>-0.249939</td>\n",
       "      <td>-0.550021</td>\n",
       "      <td>3.394275</td>\n",
       "      <td>3.893397</td>\n",
       "      <td>1.989588</td>\n",
       "      <td>2.175786</td>\n",
       "      <td>6.046041</td>\n",
       "      <td>4.935010</td>\n",
       "    </tr>\n",
       "    <tr>\n",
       "      <th>4</th>\n",
       "      <td>1.750297</td>\n",
       "      <td>-1.151816</td>\n",
       "      <td>1.776573</td>\n",
       "      <td>1.826229</td>\n",
       "      <td>0.280372</td>\n",
       "      <td>0.539340</td>\n",
       "      <td>1.371011</td>\n",
       "      <td>1.428493</td>\n",
       "      <td>-0.009560</td>\n",
       "      <td>-0.562450</td>\n",
       "      <td>1.270543</td>\n",
       "      <td>-0.790244</td>\n",
       "      <td>1.273189</td>\n",
       "      <td>1.190357</td>\n",
       "      <td>1.483067</td>\n",
       "      <td>-0.048520</td>\n",
       "      <td>0.828471</td>\n",
       "      <td>1.144205</td>\n",
       "      <td>-0.361092</td>\n",
       "      <td>0.499328</td>\n",
       "      <td>1.298575</td>\n",
       "      <td>-1.466770</td>\n",
       "      <td>1.338539</td>\n",
       "      <td>1.220724</td>\n",
       "      <td>0.220556</td>\n",
       "      <td>-0.313395</td>\n",
       "      <td>0.613179</td>\n",
       "      <td>0.729259</td>\n",
       "      <td>-0.868353</td>\n",
       "      <td>-0.397100</td>\n",
       "    </tr>\n",
       "  </tbody>\n",
       "</table>\n",
       "</div>"
      ],
      "text/plain": [
       "   radius_mean  texture_mean  perimeter_mean  area_mean  smoothness_mean  \\\n",
       "0     1.097064     -2.073335        1.269934   0.984375         1.568466   \n",
       "1     1.829821     -0.353632        1.685955   1.908708        -0.826962   \n",
       "2     1.579888      0.456187        1.566503   1.558884         0.942210   \n",
       "3    -0.768909      0.253732       -0.592687  -0.764464         3.283553   \n",
       "4     1.750297     -1.151816        1.776573   1.826229         0.280372   \n",
       "\n",
       "   compactness_mean  concavity_mean  concave points_mean  symmetry_mean  \\\n",
       "0          3.283515        2.652874             2.532475       2.217515   \n",
       "1         -0.487072       -0.023846             0.548144       0.001392   \n",
       "2          1.052926        1.363478             2.037231       0.939685   \n",
       "3          3.402909        1.915897             1.451707       2.867383   \n",
       "4          0.539340        1.371011             1.428493      -0.009560   \n",
       "\n",
       "   fractal_dimension_mean  radius_se  texture_se  perimeter_se   area_se  \\\n",
       "0                2.255747   2.489734   -0.565265      2.833031  2.487578   \n",
       "1               -0.868652   0.499255   -0.876244      0.263327  0.742402   \n",
       "2               -0.398008   1.228676   -0.780083      0.850928  1.181336   \n",
       "3                4.910919   0.326373   -0.110409      0.286593 -0.288378   \n",
       "4               -0.562450   1.270543   -0.790244      1.273189  1.190357   \n",
       "\n",
       "   smoothness_se  compactness_se  concavity_se  concave points_se  \\\n",
       "0      -0.214002        1.316862      0.724026           0.660820   \n",
       "1      -0.605351       -0.692926     -0.440780           0.260162   \n",
       "2      -0.297005        0.814974      0.213076           1.424827   \n",
       "3       0.689702        2.744280      0.819518           1.115007   \n",
       "4       1.483067       -0.048520      0.828471           1.144205   \n",
       "\n",
       "   symmetry_se  fractal_dimension_se  radius_worst  texture_worst  \\\n",
       "0     1.148757              0.907083      1.886690      -1.359293   \n",
       "1    -0.805450             -0.099444      1.805927      -0.369203   \n",
       "2     0.237036              0.293559      1.511870      -0.023974   \n",
       "3     4.732680              2.047511     -0.281464       0.133984   \n",
       "4    -0.361092              0.499328      1.298575      -1.466770   \n",
       "\n",
       "   perimeter_worst  area_worst  smoothness_worst  compactness_worst  \\\n",
       "0         2.303601    2.001237          1.307686           2.616665   \n",
       "1         1.535126    1.890489         -0.375612          -0.430444   \n",
       "2         1.347475    1.456285          0.527407           1.082932   \n",
       "3        -0.249939   -0.550021          3.394275           3.893397   \n",
       "4         1.338539    1.220724          0.220556          -0.313395   \n",
       "\n",
       "   concavity_worst  concave points_worst  symmetry_worst  \\\n",
       "0         2.109526              2.296076        2.750622   \n",
       "1        -0.146749              1.087084       -0.243890   \n",
       "2         0.854974              1.955000        1.152255   \n",
       "3         1.989588              2.175786        6.046041   \n",
       "4         0.613179              0.729259       -0.868353   \n",
       "\n",
       "   fractal_dimension_worst  \n",
       "0                 1.937015  \n",
       "1                 0.281190  \n",
       "2                 0.201391  \n",
       "3                 4.935010  \n",
       "4                -0.397100  "
      ]
     },
     "execution_count": 264,
     "metadata": {},
     "output_type": "execute_result"
    }
   ],
   "source": [
    "X_scaler = StandardScaler()\n",
    "\n",
    "# scale all the numerical columns\n",
    "scaled_feature = X_scaler.fit_transform(df_feature)\n",
    "\n",
    "X = pd.DataFrame(scaled_feature, columns=df_feature.columns)\n",
    "\n",
    "X.head()"
   ]
  },
  {
   "cell_type": "markdown",
   "metadata": {},
   "source": [
    "## Train-test-split"
   ]
  },
  {
   "cell_type": "code",
   "execution_count": 265,
   "metadata": {},
   "outputs": [
    {
     "name": "stdout",
     "output_type": "stream",
     "text": [
      "X_train (455, 30)\n",
      "y_train (455,)\n",
      "X_test (114, 30)\n",
      "y_test (114,)\n"
     ]
    }
   ],
   "source": [
    "X_train, X_test, y_train, y_test = train_test_split(X, df_target, random_state = 10, test_size = 0.2)\n",
    "print('X_train', X_train.shape)\n",
    "print('y_train', y_train.shape)\n",
    "print('X_test', X_test.shape)\n",
    "print('y_test', y_test.shape)"
   ]
  },
  {
   "cell_type": "markdown",
   "metadata": {},
   "source": [
    "##### Build a knn model on a training dataset using euclidean distance (Standardized Data)"
   ]
  },
  {
   "cell_type": "code",
   "execution_count": 266,
   "metadata": {},
   "outputs": [],
   "source": [
    "## default metric is minkowski, and with p=2 it is equivalent to the euclidean metric\n",
    "knn_classification = KNeighborsClassifier(n_neighbors=3)\n",
    "\n",
    "knn_model = knn_classification.fit(X_train,y_train)"
   ]
  },
  {
   "cell_type": "markdown",
   "metadata": {},
   "source": [
    "##### Build a confusion matrix."
   ]
  },
  {
   "cell_type": "code",
   "execution_count": 267,
   "metadata": {},
   "outputs": [],
   "source": [
    "y_test_pred = knn_model.predict(X_test)"
   ]
  },
  {
   "cell_type": "code",
   "execution_count": 268,
   "metadata": {},
   "outputs": [
    {
     "data": {
      "text/html": [
       "<div>\n",
       "<style scoped>\n",
       "    .dataframe tbody tr th:only-of-type {\n",
       "        vertical-align: middle;\n",
       "    }\n",
       "\n",
       "    .dataframe tbody tr th {\n",
       "        vertical-align: top;\n",
       "    }\n",
       "\n",
       "    .dataframe thead th {\n",
       "        text-align: right;\n",
       "    }\n",
       "</style>\n",
       "<table border=\"1\" class=\"dataframe\">\n",
       "  <thead>\n",
       "    <tr style=\"text-align: right;\">\n",
       "      <th></th>\n",
       "      <th>Predicted:0</th>\n",
       "      <th>Predicted:1</th>\n",
       "    </tr>\n",
       "  </thead>\n",
       "  <tbody>\n",
       "    <tr>\n",
       "      <th>actual:0</th>\n",
       "      <td>75</td>\n",
       "      <td>0</td>\n",
       "    </tr>\n",
       "    <tr>\n",
       "      <th>actual:1</th>\n",
       "      <td>2</td>\n",
       "      <td>37</td>\n",
       "    </tr>\n",
       "  </tbody>\n",
       "</table>\n",
       "</div>"
      ],
      "text/plain": [
       "          Predicted:0  Predicted:1\n",
       "actual:0           75            0\n",
       "actual:1            2           37"
      ]
     },
     "execution_count": 268,
     "metadata": {},
     "output_type": "execute_result"
    }
   ],
   "source": [
    "cm = confusion_matrix(y_test, y_test_pred)\n",
    "\n",
    "cm_matrix = pd.DataFrame(cm, columns=['Predicted:0','Predicted:1'],index=['actual:0','actual:1'])\n",
    "cm_matrix"
   ]
  },
  {
   "cell_type": "code",
   "execution_count": 269,
   "metadata": {},
   "outputs": [
    {
     "data": {
      "text/plain": [
       "<AxesSubplot:>"
      ]
     },
     "execution_count": 269,
     "metadata": {},
     "output_type": "execute_result"
    },
    {
     "data": {
      "image/png": "[encoded data removed]",
      "text/plain": [
       "<Figure size 576x360 with 1 Axes>"
      ]
     },
     "metadata": {
      "needs_background": "light"
     },
     "output_type": "display_data"
    }
   ],
   "source": [
    "plt.figure(figsize=[8,5])\n",
    "sns.heatmap(cm_matrix,annot=True, fmt='d', cmap=ListedColormap(['lightgreen']),\n",
    "           cbar=False, linewidths=0.1, annot_kws={'size':25})"
   ]
  },
  {
   "cell_type": "code",
   "execution_count": 270,
   "metadata": {},
   "outputs": [
    {
     "name": "stdout",
     "output_type": "stream",
     "text": [
      "test-report:                precision    recall  f1-score   support\n",
      "\n",
      "           0       0.97      1.00      0.99        75\n",
      "           1       1.00      0.95      0.97        39\n",
      "\n",
      "    accuracy                           0.98       114\n",
      "   macro avg       0.99      0.97      0.98       114\n",
      "weighted avg       0.98      0.98      0.98       114\n",
      "\n"
     ]
    }
   ],
   "source": [
    "print('test-report: ',classification_report(y_test,y_test_pred))"
   ]
  },
  {
   "cell_type": "markdown",
   "metadata": {},
   "source": [
    "## The accuracy is 98% for this model."
   ]
  },
  {
   "cell_type": "markdown",
   "metadata": {},
   "source": [
    "## Plot the Roc-curve."
   ]
  },
  {
   "cell_type": "code",
   "execution_count": 271,
   "metadata": {},
   "outputs": [],
   "source": [
    "*****************************************************************imp\n",
    "*****************************************************************\n",
    "y_test_pred_prob = knn_model.predict_proba(X_test)[:,1]"
   ]
  },
  {
   "cell_type": "code",
   "execution_count": 272,
   "metadata": {},
   "outputs": [
    {
     "data": {
      "text/plain": [
       "array([1.        , 0.        , 0.        , 1.        , 0.        ,\n",
       "       0.        , 0.        , 0.        , 1.        , 0.66666667,\n",
       "       0.        , 0.        , 1.        , 0.        , 0.33333333,\n",
       "       1.        , 0.        , 0.        , 0.        , 0.        ,\n",
       "       0.33333333, 1.        , 0.        , 0.        , 1.        ,\n",
       "       1.        , 0.        , 1.        , 0.        , 0.33333333,\n",
       "       0.        , 0.        , 1.        , 0.        , 0.33333333,\n",
       "       0.        , 0.        , 0.        , 0.33333333, 0.        ,\n",
       "       0.        , 0.        , 0.        , 1.        , 0.        ,\n",
       "       1.        , 1.        , 1.        , 1.        , 0.        ,\n",
       "       0.        , 0.33333333, 1.        , 0.        , 0.        ,\n",
       "       1.        , 1.        , 0.        , 0.        , 0.        ,\n",
       "       1.        , 0.        , 1.        , 1.        , 0.        ,\n",
       "       0.        , 0.33333333, 0.        , 1.        , 1.        ,\n",
       "       0.        , 0.        , 0.        , 0.        , 0.        ,\n",
       "       1.        , 0.        , 0.        , 1.        , 0.66666667,\n",
       "       0.        , 0.        , 1.        , 0.33333333, 0.        ,\n",
       "       0.        , 0.33333333, 0.        , 0.        , 0.        ,\n",
       "       0.        , 0.        , 1.        , 0.        , 0.        ,\n",
       "       0.        , 1.        , 0.        , 1.        , 0.        ,\n",
       "       1.        , 1.        , 0.        , 0.        , 0.        ,\n",
       "       0.        , 1.        , 1.        , 0.        , 0.        ,\n",
       "       0.        , 0.        , 1.        , 1.        ])"
      ]
     },
     "execution_count": 272,
     "metadata": {},
     "output_type": "execute_result"
    }
   ],
   "source": [
    "y_test_pred_prob"
   ]
  },
  {
   "cell_type": "code",
   "execution_count": 273,
   "metadata": {},
   "outputs": [
    {
     "data": {
      "image/png": "[encoded data removed]",
      "text/plain": [
       "<Figure size 576x360 with 1 Axes>"
      ]
     },
     "metadata": {
      "needs_background": "light"
     },
     "output_type": "display_data"
    }
   ],
   "source": [
    "fpr, tpr, threshold = roc_curve(y_test, y_test_pred_prob)\n",
    "\n",
    "plt.figure(figsize=[8,5])\n",
    "plt.plot(fpr,tpr)\n",
    "plt.plot([0,1],[0,1],'r--')\n",
    "\n",
    "plt.xlim([0.0,1.0])\n",
    "plt.ylim([0.0,1.0])\n",
    "\n",
    "plt.grid()"
   ]
  },
  {
   "cell_type": "code",
   "execution_count": 274,
   "metadata": {},
   "outputs": [
    {
     "data": {
      "text/plain": [
       "0.9976068376068375"
      ]
     },
     "execution_count": 274,
     "metadata": {},
     "output_type": "execute_result"
    }
   ],
   "source": [
    "metrics.roc_auc_score(y_test, y_test_pred_prob)"
   ]
  },
  {
   "cell_type": "markdown",
   "metadata": {},
   "source": [
    "**Interpretation:** The red dotted line represents the ROC curve of a purely random classifier; a good classifier stays as far away from that line as possible (toward the top-left corner). From the above plot, we can see that our classifier (knn_model with n_neighbors = 3) is away from the dotted line; with the AUC score 0.9976."
   ]
  },
  {
   "cell_type": "markdown",
   "metadata": {},
   "source": [
    "## Optimal Value of K (using GridSearchCV)"
   ]
  },
  {
   "cell_type": "code",
   "execution_count": 275,
   "metadata": {},
   "outputs": [],
   "source": [
    "tuned_params = {'n_neighbors':np.arange(1,25,2),\n",
    "               'metric':['hamming','euclidean','manhattan','Chebyshev']}\n",
    "\n",
    "knn = KNeighborsClassifier()\n",
    "\n",
    "gsearch = GridSearchCV(estimator=knn,\n",
    "                      param_grid=tuned_params,\n",
    "                      cv=5,\n",
    "                      scoring='accuracy')\n",
    "\n",
    "knn_gsearch_model = gsearch.fit(X_train, y_train)"
   ]
  },
  {
   "cell_type": "code",
   "execution_count": 276,
   "metadata": {},
   "outputs": [
    {
     "data": {
      "text/plain": [
       "{'metric': 'euclidean', 'n_neighbors': 3}"
      ]
     },
     "execution_count": 276,
     "metadata": {},
     "output_type": "execute_result"
    }
   ],
   "source": [
    "knn_gsearch_model.best_params_"
   ]
  },
  {
   "cell_type": "markdown",
   "metadata": {},
   "source": [
    "#### Draw a line plot to see the error rate for each value of k using the euclidean distance as a metric of knn model."
   ]
  },
  {
   "cell_type": "code",
   "execution_count": 277,
   "metadata": {},
   "outputs": [],
   "source": [
    "error_rate = []\n",
    "for i in range(1,25,2):\n",
    "    knn = KNeighborsClassifier(i,metric='euclidean')\n",
    "    cv = cross_val_score(knn, X_train, y_train, cv=5, scoring='accuracy')\n",
    "    cv = cv.mean()\n",
    "    error_rate.append(1-cv)"
   ]
  },
  {
   "cell_type": "code",
   "execution_count": 278,
   "metadata": {},
   "outputs": [
    {
     "data": {
      "text/plain": [
       "[0.05494505494505497,\n",
       " 0.03516483516483526,\n",
       " 0.03736263736263745,\n",
       " 0.03736263736263745,\n",
       " 0.03736263736263745,\n",
       " 0.03956043956043964,\n",
       " 0.0483516483516484,\n",
       " 0.05054945054945059,\n",
       " 0.05054945054945059,\n",
       " 0.05274725274725278,\n",
       " 0.05494505494505497,\n",
       " 0.05494505494505497]"
      ]
     },
     "execution_count": 278,
     "metadata": {},
     "output_type": "execute_result"
    }
   ],
   "source": [
    "error_rate"
   ]
  },
  {
   "cell_type": "code",
   "execution_count": 279,
   "metadata": {},
   "outputs": [
    {
     "data": {
      "image/png": "[encoded data removed]",
      "text/plain": [
       "<Figure size 576x360 with 1 Axes>"
      ]
     },
     "metadata": {
      "needs_background": "light"
     },
     "output_type": "display_data"
    }
   ],
   "source": [
    "plt.figure(figsize=[8,5])\n",
    "plt.plot(range(1,25,2),error_rate)\n",
    "plt.xlabel('k-values')\n",
    "plt.ylabel('error-rates')\n",
    "plt.xticks(range(1,25,2))\n",
    "plt.axvline(x=3,color='red')\n",
    "plt.show()"
   ]
  },
  {
   "cell_type": "markdown",
   "metadata": {},
   "source": [
    "## Interpretation:\n",
    "- **we can see the optimal value k=3 obtained from the gridSearchcv has the lowest error-rate.**"
   ]
  },
  {
   "cell_type": "markdown",
   "metadata": {},
   "source": [
    "## OR second method to plot and interpret the optimal value for k."
   ]
  },
  {
   "cell_type": "code",
   "execution_count": 280,
   "metadata": {},
   "outputs": [],
   "source": [
    "accuracy = []\n",
    "for i in range(1,25,2):\n",
    "    knn = KNeighborsClassifier(i, metric='euclidean')\n",
    "    cv = cross_val_score(knn, X_train, y_train, cv=5, scoring='accuracy')\n",
    "    cv = cv.mean()\n",
    "    accuracy.append(cv)"
   ]
  },
  {
   "cell_type": "code",
   "execution_count": 281,
   "metadata": {},
   "outputs": [
    {
     "data": {
      "text/plain": [
       "[0.945054945054945,\n",
       " 0.9648351648351647,\n",
       " 0.9626373626373625,\n",
       " 0.9626373626373625,\n",
       " 0.9626373626373625,\n",
       " 0.9604395604395604,\n",
       " 0.9516483516483516,\n",
       " 0.9494505494505494,\n",
       " 0.9494505494505494,\n",
       " 0.9472527472527472,\n",
       " 0.945054945054945,\n",
       " 0.945054945054945]"
      ]
     },
     "execution_count": 281,
     "metadata": {},
     "output_type": "execute_result"
    }
   ],
   "source": [
    "accuracy"
   ]
  },
  {
   "cell_type": "code",
   "execution_count": 282,
   "metadata": {},
   "outputs": [
    {
     "data": {
      "image/png": "[encoded data removed]",
      "text/plain": [
       "<Figure size 576x360 with 1 Axes>"
      ]
     },
     "metadata": {
      "needs_background": "light"
     },
     "output_type": "display_data"
    }
   ],
   "source": [
    "plt.figure(figsize=[8,5])\n",
    "plt.plot(range(1,25,2),accuracy)\n",
    "plt.xlabel('K-values')\n",
    "plt.ylabel('accuracy')\n",
    "\n",
    "plt.xticks(range(1,25,2))\n",
    "plt.axvline(x=3,color='red')\n",
    "\n",
    "plt.show()"
   ]
  },
  {
   "cell_type": "markdown",
   "metadata": {},
   "source": [
    "## Interpretation:\n",
    "- **as we can see from the above graph the optimal value of k=3, obtained from the gridsearch cv has the highest accuracy.**"
   ]
  },
  {
   "cell_type": "markdown",
   "metadata": {},
   "source": [
    "## Calculate performance measures on the test set (knn -gridSearch_model)"
   ]
  },
  {
   "cell_type": "code",
   "execution_count": 283,
   "metadata": {},
   "outputs": [
    {
     "data": {
      "text/plain": [
       "array([1, 0, 0, 1, 0])"
      ]
     },
     "execution_count": 283,
     "metadata": {},
     "output_type": "execute_result"
    }
   ],
   "source": [
    "y_pred = knn_gsearch_model.predict(X_test)\n",
    "y_pred[:5]"
   ]
  },
  {
   "cell_type": "code",
   "execution_count": 284,
   "metadata": {},
   "outputs": [
    {
     "name": "stdout",
     "output_type": "stream",
     "text": [
      "Classification Report for test set: \n",
      "               precision    recall  f1-score   support\n",
      "\n",
      "           0       0.97      1.00      0.99        75\n",
      "           1       1.00      0.95      0.97        39\n",
      "\n",
      "    accuracy                           0.98       114\n",
      "   macro avg       0.99      0.97      0.98       114\n",
      "weighted avg       0.98      0.98      0.98       114\n",
      "\n"
     ]
    }
   ],
   "source": [
    "print('Classification Report for test set: \\n', classification_report(y_test,y_pred))"
   ]
  },
  {
   "cell_type": "code",
   "execution_count": 285,
   "metadata": {},
   "outputs": [
    {
     "data": {
      "image/png": "[encoded data removed]",
      "text/plain": [
       "<Figure size 720x360 with 1 Axes>"
      ]
     },
     "metadata": {
      "needs_background": "light"
     },
     "output_type": "display_data"
    }
   ],
   "source": [
    "plot_roc_curve(knn_gsearch_model,X_test)"
   ]
  },
  {
   "cell_type": "code",
   "execution_count": 286,
   "metadata": {},
   "outputs": [
    {
     "data": {
      "text/plain": [
       "array([1., 0., 0., 1., 0.])"
      ]
     },
     "execution_count": 286,
     "metadata": {},
     "output_type": "execute_result"
    }
   ],
   "source": [
    "y_test_prob = knn_gsearch_model.predict_proba(X_test)[:,1]\n",
    "y_test_prob[:5]"
   ]
  },
  {
   "cell_type": "code",
   "execution_count": 287,
   "metadata": {},
   "outputs": [
    {
     "name": "stdout",
     "output_type": "stream",
     "text": [
      "The auc-score for knn-grid search model is:  0.9976068376068375\n"
     ]
    }
   ],
   "source": [
    "\n",
    "print('The auc-score for knn-grid search model is: ',roc_auc_score(y_test, y_test_prob))"
   ]
  },
  {
   "cell_type": "code",
   "execution_count": null,
   "metadata": {},
   "outputs": [],
   "source": [
    "\n",
    "\n",
    "\n",
    "\n",
    "\n",
    "\n"
   ]
  },
  {
   "cell_type": "markdown",
   "metadata": {},
   "source": [
    "# Naive Bayes Algorithim.\n",
    "- **It uses a Bayes' Theorem with the assumption of independence of predictor variables.** \n",
    "- **The sklearn library provides different naive bayes classifiers, as GaussianNB, MultinomialNB and so on.**"
   ]
  },
  {
   "cell_type": "markdown",
   "metadata": {},
   "source": [
    "###### Build a naive bayes model on a training dataset."
   ]
  },
  {
   "cell_type": "code",
   "execution_count": 288,
   "metadata": {},
   "outputs": [],
   "source": [
    "Gnb = GaussianNB()\n",
    "\n",
    "Gnb_model = Gnb.fit(X_train,y_train)"
   ]
  },
  {
   "cell_type": "code",
   "execution_count": 289,
   "metadata": {},
   "outputs": [
    {
     "data": {
      "image/png": "[encoded data removed]",
      "text/plain": [
       "<Figure size 720x360 with 1 Axes>"
      ]
     },
     "metadata": {
      "needs_background": "light"
     },
     "output_type": "display_data"
    }
   ],
   "source": [
    "## plotting confusion matrix by calling the function:\n",
    "plot_confusion_matrix(Gnb_model,X_test)"
   ]
  },
  {
   "cell_type": "code",
   "execution_count": 290,
   "metadata": {},
   "outputs": [
    {
     "data": {
      "image/png": "[encoded data removed]",
      "text/plain": [
       "<Figure size 720x360 with 1 Axes>"
      ]
     },
     "metadata": {
      "needs_background": "light"
     },
     "output_type": "display_data"
    }
   ],
   "source": [
    "## plotting the roc-curve by calling the function:\n",
    "plot_roc_curve(Gnb_model, X_test)"
   ]
  },
  {
   "cell_type": "code",
   "execution_count": 291,
   "metadata": {},
   "outputs": [],
   "source": [
    "y_test_proba = Gnb_model.predict_proba(X_test)[:,1]"
   ]
  },
  {
   "cell_type": "code",
   "execution_count": 292,
   "metadata": {},
   "outputs": [
    {
     "data": {
      "text/plain": [
       "0.9784615384615385"
      ]
     },
     "execution_count": 292,
     "metadata": {},
     "output_type": "execute_result"
    }
   ],
   "source": [
    "metrics.roc_auc_score(y_test,y_test_proba)"
   ]
  },
  {
   "cell_type": "markdown",
   "metadata": {},
   "source": [
    "### Interpretation: From the above plot, we can see that our classifier (gnb_model) is away from the red-dotted line, with  the auc-score of 0.9781."
   ]
  },
  {
   "cell_type": "code",
   "execution_count": 293,
   "metadata": {},
   "outputs": [
    {
     "data": {
      "text/plain": [
       "array([1, 0, 0, 1, 0])"
      ]
     },
     "execution_count": 293,
     "metadata": {},
     "output_type": "execute_result"
    }
   ],
   "source": [
    "y_test_pred = Gnb_model.predict(X_test)\n",
    "y_test_pred[:5]"
   ]
  },
  {
   "cell_type": "code",
   "execution_count": 294,
   "metadata": {},
   "outputs": [
    {
     "data": {
      "text/plain": [
       "array([1.00000000e+00, 5.01665350e-17, 5.13004031e-15, 1.00000000e+00,\n",
       "       3.63823203e-18])"
      ]
     },
     "execution_count": 294,
     "metadata": {},
     "output_type": "execute_result"
    }
   ],
   "source": [
    "y_test_proba = Gnb_model.predict_proba(X_test)[:,1]\n",
    "y_test_proba[:5]"
   ]
  },
  {
   "cell_type": "code",
   "execution_count": 295,
   "metadata": {},
   "outputs": [
    {
     "name": "stdout",
     "output_type": "stream",
     "text": [
      "test-report:                precision    recall  f1-score   support\n",
      "\n",
      "           0       0.99      0.95      0.97        75\n",
      "           1       0.90      0.97      0.94        39\n",
      "\n",
      "    accuracy                           0.96       114\n",
      "   macro avg       0.95      0.96      0.95       114\n",
      "weighted avg       0.96      0.96      0.96       114\n",
      "\n"
     ]
    }
   ],
   "source": [
    "print('test-report: ',classification_report(y_test,y_test_pred))"
   ]
  },
  {
   "cell_type": "markdown",
   "metadata": {},
   "source": [
    "### Comparision b/w KNN model and Naive bayes model:"
   ]
  },
  {
   "cell_type": "code",
   "execution_count": 296,
   "metadata": {},
   "outputs": [
    {
     "name": "stdout",
     "output_type": "stream",
     "text": [
      "The auc-score for knn-grid search model is:  0.9976068376068375\n"
     ]
    }
   ],
   "source": [
    "print('The auc-score for knn-grid search model is: ',roc_auc_score(y_test, y_test_prob))"
   ]
  },
  {
   "cell_type": "code",
   "execution_count": 297,
   "metadata": {},
   "outputs": [
    {
     "name": "stdout",
     "output_type": "stream",
     "text": [
      "The auc-score for Gnb model is:  0.9784615384615385\n"
     ]
    }
   ],
   "source": [
    "print('The auc-score for Gnb model is: ',roc_auc_score(y_test,y_test_proba))"
   ]
  },
  {
   "cell_type": "markdown",
   "metadata": {},
   "source": [
    "### Interpretation: The Auc Score of KNN Model is slightly higher than that of Gaussian Naive Bayes model. Also KNN model is more stable than Gaussian Naive Bayes model."
   ]
  },
  {
   "cell_type": "code",
   "execution_count": null,
   "metadata": {},
   "outputs": [],
   "source": [
    "\n",
    "\n",
    "\n",
    "\n",
    "\n",
    "\n"
   ]
  }
 ],
 "metadata": {
  "kernelspec": {
   "display_name": "Python 3",
   "language": "python",
   "name": "python3"
  },
  "language_info": {
   "codemirror_mode": {
    "name": "ipython",
    "version": 3
   },
   "file_extension": ".py",
   "mimetype": "text/x-python",
   "name": "python",
   "nbconvert_exporter": "python",
   "pygments_lexer": "ipython3",
   "version": "3.8.5"
  }
 },
 "nbformat": 4,
 "nbformat_minor": 4
}
